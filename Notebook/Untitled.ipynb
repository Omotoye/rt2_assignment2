{
 "cells": [
  {
   "cell_type": "code",
   "execution_count": null,
   "id": "level-dress",
   "metadata": {},
   "outputs": [],
   "source": []
  },
  {
   "cell_type": "code",
   "execution_count": 28,
   "id": "acute-situation",
   "metadata": {
    "ExecuteTime": {
     "end_time": "2021-06-15T21:32:38.402743Z",
     "start_time": "2021-06-15T21:32:38.318189Z"
    }
   },
   "outputs": [
    {
     "data": {
      "application/vnd.jupyter.widget-view+json": {
       "model_id": "af84581669cc4e2f8108b1683c3518c3",
       "version_major": 2,
       "version_minor": 0
      },
      "text/plain": [
       "Canvas(toolbar=Toolbar(toolitems=[('Home', 'Reset original view', 'home', 'home'), ('Back', 'Back to previous …"
      ]
     },
     "metadata": {},
     "output_type": "display_data"
    }
   ],
   "source": [
    "import numpy as np\n",
    "import matplotlib.pyplot as plt\n",
    "%matplotlib widget\n",
    "x = np.linspace(0.0, 5.0)\n",
    "y1 = np.cos(2*np.pi*x)*np.exp(-x)\n",
    "y2 = np.cos(2*np.pi*x)\n",
    "plt.figure(figsize=(10,5), dpi=100)\n",
    "plt.subplot(211)\n",
    "plt.plot(x, y1, 'go-')\n",
    "plt.title('my 2 subplots')\n",
    "plt.ylabel('Damped')\n",
    "plt.subplot(212)\n",
    "plt.plot(x, y2, 'r^-')\n",
    "plt.xlabel('time (s)')\n",
    "plt.ylabel('Undamped')\n",
    "plt.show()"
   ]
  },
  {
   "cell_type": "code",
   "execution_count": 17,
   "id": "breathing-saskatchewan",
   "metadata": {
    "ExecuteTime": {
     "end_time": "2021-06-15T21:26:16.193164Z",
     "start_time": "2021-06-15T21:26:16.044078Z"
    }
   },
   "outputs": [],
   "source": [
    "# first you have to make the figure\n",
    "fig = plt.figure(1)\n",
    "\n",
    "# now you have to create each subplot individually\n",
    "# ax1 = plt.subplot(231)\n",
    "# ax2 = plt.subplot(232)\n",
    "ax3 = plt.subplot(233)\n",
    "\n",
    "ax4 = plt.subplot(234)\n",
    "ax4.plot(x, y1, 'go-')\n",
    "ax5 = plt.subplot(235)\n",
    "ax5.plot(x, y1, 'go-')\n",
    "ax6 = plt.subplot(236)\n",
    "ax6.plot(x, y1, 'go-')\n",
    "ax7 = plt.subplot(247)\n",
    "plt.show()"
   ]
  },
  {
   "cell_type": "code",
   "execution_count": 18,
   "id": "sporting-boundary",
   "metadata": {
    "ExecuteTime": {
     "end_time": "2021-06-15T21:26:58.115046Z",
     "start_time": "2021-06-15T21:26:57.973903Z"
    }
   },
   "outputs": [
    {
     "data": {
      "application/vnd.jupyter.widget-view+json": {
       "model_id": "ee630da963e54090822fa48bad50cf3e",
       "version_major": 2,
       "version_minor": 0
      },
      "text/plain": [
       "Canvas(toolbar=Toolbar(toolitems=[('Home', 'Reset original view', 'home', 'home'), ('Back', 'Back to previous …"
      ]
     },
     "metadata": {},
     "output_type": "display_data"
    }
   ],
   "source": [
    "fig, axes = plt.subplots(nrows=2, ncols=3)"
   ]
  },
  {
   "cell_type": "code",
   "execution_count": null,
   "id": "digital-antique",
   "metadata": {},
   "outputs": [],
   "source": []
  }
 ],
 "metadata": {
  "kernelspec": {
   "display_name": "Python 3",
   "language": "python",
   "name": "python3"
  },
  "language_info": {
   "codemirror_mode": {
    "name": "ipython",
    "version": 3
   },
   "file_extension": ".py",
   "mimetype": "text/x-python",
   "name": "python",
   "nbconvert_exporter": "python",
   "pygments_lexer": "ipython3",
   "version": "3.8.5"
  },
  "toc": {
   "base_numbering": 1,
   "nav_menu": {},
   "number_sections": true,
   "sideBar": true,
   "skip_h1_title": false,
   "title_cell": "Table of Contents",
   "title_sidebar": "Contents",
   "toc_cell": false,
   "toc_position": {},
   "toc_section_display": true,
   "toc_window_display": false
  },
  "varInspector": {
   "cols": {
    "lenName": 16,
    "lenType": 16,
    "lenVar": 40
   },
   "kernels_config": {
    "python": {
     "delete_cmd_postfix": "",
     "delete_cmd_prefix": "del ",
     "library": "var_list.py",
     "varRefreshCmd": "print(var_dic_list())"
    },
    "r": {
     "delete_cmd_postfix": ") ",
     "delete_cmd_prefix": "rm(",
     "library": "var_list.r",
     "varRefreshCmd": "cat(var_dic_list()) "
    }
   },
   "types_to_exclude": [
    "module",
    "function",
    "builtin_function_or_method",
    "instance",
    "_Feature"
   ],
   "window_display": false
  }
 },
 "nbformat": 4,
 "nbformat_minor": 5
}
