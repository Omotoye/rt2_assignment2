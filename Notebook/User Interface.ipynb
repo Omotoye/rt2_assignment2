{
 "cells": [
  {
   "cell_type": "markdown",
   "id": "adjacent-stephen",
   "metadata": {},
   "source": [
    "# Reasearch Track II Assignment 2\n",
    "\n",
    "---\n",
    "\n",
    "**Author's Name: Omotoye Shamsudeen Adekoya** <br>\n",
    "**Student ID: 5066348**\n",
    "\n",
    "---\n",
    "\n",
    "## NoteBook Description\n",
    "\n",
    "This Notebook has two functions; it serves as a user interface for the control of non-holonomic robot in a 3D environment and it also show a graphical feedback of the robot state and behaviour. "
   ]
  },
  {
   "cell_type": "markdown",
   "id": "consolidated-contemporary",
   "metadata": {},
   "source": [
    "## Robot Control"
   ]
  },
  {
   "cell_type": "code",
   "execution_count": 56,
   "id": "neural-cover",
   "metadata": {
    "ExecuteTime": {
     "end_time": "2021-06-05T03:32:39.657592Z",
     "start_time": "2021-06-05T03:32:39.379209Z"
    }
   },
   "outputs": [],
   "source": [
    "import ipywidgets as widgets\n",
    "from ipywidgets import Button, Layout, HBox, VBox\n",
    "from ipywidgets import Button, GridBox, Layout, ButtonStyle"
   ]
  },
  {
   "cell_type": "code",
   "execution_count": 61,
   "id": "impressed-wallet",
   "metadata": {
    "ExecuteTime": {
     "end_time": "2021-06-05T03:37:53.403024Z",
     "start_time": "2021-06-05T03:37:53.176469Z"
    }
   },
   "outputs": [],
   "source": [
    "import rospy\n",
    "import time\n",
    "from rt2_assignment2.srv import Command\n",
    "from geometry_msgs.msg import Twist, Point\n",
    "\n",
    "from all_buttons import *\n",
    "\n",
    "from ipywidgets import Button, Layout, HBox, VBox\n",
    "\n",
    "def start_simulation(a):\n",
    "    ui_client(\"start\")\n",
    "    start_button.button_style = 'success'\n",
    "    stop_button.button_style = ''\n",
    "def stop_simulation(b):\n",
    "    ui_client(\"stop\")\n",
    "    start_button.button_style = ''\n",
    "    stop_button.button_style = 'danger'\n",
    "    \n",
    "def move_forward(a):\n",
    "    while not rospy.signal_shutdown:\n",
    "        vel = Twist()\n",
    "        vel.linear.x = 0.5\n",
    "        pub.publish(vel)\n",
    "def move_backward(a):\n",
    "    vel = Twist()\n",
    "    vel.linear.x = -0.5\n",
    "    pub.publish(vel)\n",
    "    \n",
    "def turn_left(a):\n",
    "    vel = Twist()\n",
    "    vel.angular.z = -0.3\n",
    "    pub.publish(vel)\n",
    "    \n",
    "def turn_right(a):\n",
    "    vel = Twist()\n",
    "    vel.angular.z = 0.3\n",
    "    pub.publish(vel)\n",
    "    \n",
    "\n",
    "def main():\n",
    "    rospy.init_node('user_interface')\n",
    "    start_button.on_click(start_simulation)\n",
    "    stop_button.on_click(stop_simulation)\n",
    "    up_button.on_click(move_forward)\n",
    "    down_button.on_click(move_backward)\n",
    "    left_button.on_click(turn_left)\n",
    "    right_button.on_click(turn_right)\n",
    "            \n",
    "if __name__ == '__main__':\n",
    "    pub = rospy.Publisher('/cmd_vel', Twist, queue_size=10)\n",
    "    rate = rospy.Rate(10) # 10hz\n",
    "    ui_client = rospy.ServiceProxy('/user_interface', Command)\n",
    "    main()\n",
    "\n"
   ]
  },
  {
   "cell_type": "code",
   "execution_count": 62,
   "id": "conscious-savage",
   "metadata": {
    "ExecuteTime": {
     "end_time": "2021-06-05T03:37:57.034753Z",
     "start_time": "2021-06-05T03:37:57.004945Z"
    },
    "scrolled": false
   },
   "outputs": [
    {
     "data": {
      "application/vnd.jupyter.widget-view+json": {
       "model_id": "c7ed3a1da1b043c4ab2c82c00ba75e20",
       "version_major": 2,
       "version_minor": 0
      },
      "text/plain": [
       "HBox(children=(Button(description='Start', icon='play', layout=Layout(height='80px', width='50%'), style=Butto…"
      ]
     },
     "metadata": {},
     "output_type": "display_data"
    }
   ],
   "source": [
    "HBox([start_button, stop_button])\n",
    "\n"
   ]
  },
  {
   "cell_type": "code",
   "execution_count": 59,
   "id": "sorted-treasury",
   "metadata": {
    "ExecuteTime": {
     "end_time": "2021-06-05T03:32:44.403783Z",
     "start_time": "2021-06-05T03:32:44.168016Z"
    }
   },
   "outputs": [
    {
     "data": {
      "text/plain": [
       "['_dom_classes',\n",
       " '_model_module',\n",
       " '_model_module_version',\n",
       " '_model_name',\n",
       " '_view_count',\n",
       " '_view_module',\n",
       " '_view_module_version',\n",
       " '_view_name',\n",
       " 'button_style',\n",
       " 'description',\n",
       " 'disabled',\n",
       " 'icon',\n",
       " 'layout',\n",
       " 'style',\n",
       " 'tooltip']"
      ]
     },
     "execution_count": 59,
     "metadata": {},
     "output_type": "execute_result"
    }
   ],
   "source": [
    "start_button.keys"
   ]
  },
  {
   "cell_type": "code",
   "execution_count": 63,
   "id": "tracked-place",
   "metadata": {
    "ExecuteTime": {
     "end_time": "2021-06-05T03:38:01.400716Z",
     "start_time": "2021-06-05T03:38:01.356929Z"
    }
   },
   "outputs": [
    {
     "data": {
      "application/vnd.jupyter.widget-view+json": {
       "model_id": "7154a87ea5e64901b28ff77c982f51d5",
       "version_major": 2,
       "version_minor": 0
      },
      "text/plain": [
       "GridBox(children=(Button(icon='arrow-up', layout=Layout(grid_area='up', height='50px', width='auto'), style=Bu…"
      ]
     },
     "metadata": {},
     "output_type": "display_data"
    }
   ],
   "source": [
    "GridBox(children=[up_button,down_button,left_button,right_button, stop],\n",
    "        layout=Layout(\n",
    "            width='100%',\n",
    "            grid_template_rows='auto auto auto auto',\n",
    "            grid_template_columns='16.5% 16.5% 16.5% 16.5% 16.5% 16.5%',\n",
    "            grid_template_areas='''\n",
    "            \". up . . . . \"\n",
    "            \" left . right . stop .\"\n",
    "            \" . down . . . . \"\n",
    "            ''')\n",
    "       )\n"
   ]
  },
  {
   "cell_type": "code",
   "execution_count": null,
   "id": "moved-importance",
   "metadata": {},
   "outputs": [],
   "source": []
  }
 ],
 "metadata": {
  "kernelspec": {
   "display_name": "Python 3",
   "language": "python",
   "name": "python3"
  },
  "language_info": {
   "codemirror_mode": {
    "name": "ipython",
    "version": 3
   },
   "file_extension": ".py",
   "mimetype": "text/x-python",
   "name": "python",
   "nbconvert_exporter": "python",
   "pygments_lexer": "ipython3",
   "version": "3.8.5"
  },
  "toc": {
   "base_numbering": 1,
   "nav_menu": {},
   "number_sections": true,
   "sideBar": true,
   "skip_h1_title": false,
   "title_cell": "Table of Contents",
   "title_sidebar": "Contents",
   "toc_cell": false,
   "toc_position": {},
   "toc_section_display": true,
   "toc_window_display": false
  },
  "varInspector": {
   "cols": {
    "lenName": 16,
    "lenType": 16,
    "lenVar": 40
   },
   "kernels_config": {
    "python": {
     "delete_cmd_postfix": "",
     "delete_cmd_prefix": "del ",
     "library": "var_list.py",
     "varRefreshCmd": "print(var_dic_list())"
    },
    "r": {
     "delete_cmd_postfix": ") ",
     "delete_cmd_prefix": "rm(",
     "library": "var_list.r",
     "varRefreshCmd": "cat(var_dic_list()) "
    }
   },
   "types_to_exclude": [
    "module",
    "function",
    "builtin_function_or_method",
    "instance",
    "_Feature"
   ],
   "window_display": false
  }
 },
 "nbformat": 4,
 "nbformat_minor": 5
}
