{
 "cells": [
  {
   "cell_type": "markdown",
   "id": "adjacent-stephen",
   "metadata": {
    "hide_input": true
   },
   "source": [
    "<div align=\"left\">\n",
    "<img src=\"../images/unige.png\" width=\"10%\" height=\"10%\" title=\"University of Genoa\" alt=\"University of Genoa\" >\n",
    "</div>\n",
    "\n",
    "\n",
    "# Reasearch Track II Assignment 2\n",
    "\n",
    "---\n",
    "\n",
    "**Author's Name: Omotoye Shamsudeen Adekoya** <br>\n",
    "**Student ID: 5066348**\n",
    "\n",
    "---\n",
    "\n",
    "## NoteBook Description\n",
    "\n",
    "This Notebook has two functions; it serves as a user interface for the control of non-holonomic 2 Wheeled robot in a 3D environment and it also show a graphical feedback of the robot state and behaviour. "
   ]
  },
  {
   "cell_type": "markdown",
   "id": "consolidated-contemporary",
   "metadata": {},
   "source": [
    "<div align=\"center\">\n",
    "    <h1> Robot Controller </h1>\n",
    "<img src=\"../images/rviz-robotmodel.png\" width=\"35%\" height=\"35%\" title=\"Two Wheel Non-Holonomic Robot\" alt=\"Two Wheeled Non-Holonomic Robot Model\" >\n",
    "</div>"
   ]
  },
  {
   "cell_type": "markdown",
   "id": "be3ff5b9",
   "metadata": {},
   "source": [
    "### Importing all the necessary libraries\n",
    "List of Libraries implemented for the control and visualization operation\n",
    "\n",
    "---\n",
    "|Library|Use|\n",
    "|:---|:---|\n",
    "|**rospy**|Used for the Initialization of the NoteBook as a ROS Node and also for implementing all the ros communication mechanism (**Subscriber, Publisher, Service, \\*Parameter Server**) to communicate with all the other nodes in order to control and receive information from the Mobile Robot|\n",
    "|**IpyWidgets**| Used for the creation of the buttons and slider for sending commands to the ros nodes |\n",
    "|**matplotlib**| Used for creating interactive Visualization of the data returned from the robot about the **robot state**|\n",
    "|**tf**| Used for interpreting the Odometry data by converting the orientation data from quaternion to euler's angle |\n",
    "|**all_buttons**| It contains all the button object created for the Notebook controller |\n",
    "\n"
   ]
  },
  {
   "cell_type": "code",
   "execution_count": 1,
   "id": "f820c57c",
   "metadata": {
    "ExecuteTime": {
     "end_time": "2021-07-19T18:35:22.763597Z",
     "start_time": "2021-07-19T18:35:21.702746Z"
    }
   },
   "outputs": [],
   "source": [
    "import ipywidgets as widgets\n",
    "from ipywidgets import Button, Layout, HBox, VBox, GridBox, Layout, ButtonStyle \n",
    "\n",
    "import matplotlib.pyplot as plt\n",
    "from matplotlib.animation import FuncAnimation\n",
    "from matplotlib.widgets import Button as Btn\n",
    "from matplotlib.lines import Line2D \n",
    "from matplotlib.patches import Arrow, Circle\n",
    "\n",
    "import rospy\n",
    "import tf\n",
    "from nav_msgs.msg import Odometry\n",
    "from rt2_assignment2.srv import Command, RandomPosition\n",
    "from geometry_msgs.msg import Twist\n",
    "from nav_msgs.msg import Odometry \n",
    "from tf.transformations import euler_from_quaternion\n",
    "\n",
    "from math import *\n",
    "import time\n",
    "\n",
    "from all_buttons import *\n",
    "\n",
    "%matplotlib widget\n",
    "plt.style.use('ggplot')"
   ]
  },
  {
   "cell_type": "markdown",
   "id": "897256e0",
   "metadata": {},
   "source": [
    "### Figure Classes\n",
    "\n",
    "The class was created, **_Visualiser(), AnalysisPlots(), VelocityAnalysis()_**\n",
    " \n",
    "* __Visualiser()__: _This class handles the figure that displays the position and orientation of the Robot and also information about the goal position and the distance of the robot to the goal_\n",
    "* __AnalysisPlots()__: _This class handles the figure that displays the **BarPlot** of the reached and canceled target as well as the **Histogram** showing the frequency of time the robot takes to reach a goal target._\n",
    "* __VelocityAnalysis()__: _This class handles the figure that displays the **Line Plots** for visualising the velocity send through the **cmd_vel** topic and the **actual velocity** of the robot_"
   ]
  },
  {
   "cell_type": "code",
   "execution_count": 2,
   "id": "amazing-currency",
   "metadata": {
    "ExecuteTime": {
     "end_time": "2021-07-19T18:35:22.806262Z",
     "start_time": "2021-07-19T18:35:22.767783Z"
    }
   },
   "outputs": [],
   "source": [
    "class Visualiser:\n",
    "    \"\"\"This class is for the creation of the Figure which contains the graphical \n",
    "    and textual representation of the robot state (position and orientation) \n",
    "    and the goal position\n",
    "    \"\"\"\n",
    "    def __init__(self):\n",
    "        # Creating the figure for adding Axes\n",
    "        self.fig = plt.figure(figsize=(8,6))\n",
    "        \n",
    "        ## Adding an axes to the created figure\n",
    "        self.ax = self.fig.add_axes([0.45,0.17,0.52,0.70]) # here is where the sectioning of the axis of the figure is done \n",
    "        self.ax.set_title('Robot Position and Goal Visualizer')\n",
    "        self.ax.set_xlabel('X Coordinate')\n",
    "        self.ax.set_ylabel('Y Coordinate')\n",
    "        \n",
    "        # Creating and adding a line to the axes created\n",
    "        self.line = Line2D([],[], color='g', label='Motion Path', marker='.',\n",
    "     markerfacecolor='blue')\n",
    "        self.ax.add_line(self.line)\n",
    "        \n",
    "        ## Creating and adding an arrow artist to the axes\n",
    "        # this arrow help to visulize the orientation of the robot \n",
    "        self.arrow = Arrow(0, 0, 0, 0)\n",
    "        self.ax.add_patch(self.arrow)\n",
    "        \n",
    "        ## Creating and adding a circle artist to the axes\n",
    "        # this circle helps to visualize the position of the robot \n",
    "        self.circle = Circle((0, 0), radius=0, label='Robot Pose')\n",
    "        self.ax.add_patch(self.circle)\n",
    "        \n",
    "        # Creating and adding a circle artist representing the goal point\n",
    "        self.target = Circle((0, 0), radius=0,  color='r',label='Goal Point')\n",
    "        self.ax.add_patch(self.target)\n",
    "        \n",
    "        # Creating an axes for displaying all the textual information\n",
    "        # this axes snows the value of the robot position, orientation, distance to goal etc.....\n",
    "        self.info_ax = self.fig.add_axes([0.05,0.05, 0.30,0.9])\n",
    "        self.info_ax.grid(False)\n",
    "        self.info_ax.set_facecolor('#faebd7')\n",
    "        self.info_ax.tick_params(left = False, right = False , labelleft = False ,\n",
    "                labelbottom = False, bottom = False)\n",
    "        \n",
    "        ## Creating an axes for displaying a button\n",
    "        # this button is used for clear the path that has been plotted on the axes for displaying the position of the robot \n",
    "        self.btax = self.fig.add_axes([0.8, 0.02, 0.2, 0.05])\n",
    "        \n",
    "        # Initialising all the variables for holding all the required data\n",
    "        self.x_data, self.y_data = [], []\n",
    "        self.pose_data = 'X: 0.0\\n\\nY: 0.0\\n\\nOrientation: 0.0'\n",
    "        self.vel_data = 'Linear Velocity: 0.0\\n\\nAngular Velocity: 0.0'\n",
    "        self.goal_data = 'TARGET:\\n\\n    x: 0.0\\n    y: 0.0\\n\\nDistance to Target: 0.0'\n",
    "        \n",
    "        # Defining all the text position and properties\n",
    "        self.info_ax.text(0.1, 0.92, 'POSITION', style='oblique', fontsize=16,\n",
    "        bbox={'facecolor': 'red','alpha': 0.5, 'pad': 10})\n",
    "        self.pose_text = self.info_ax.text(0.05, 0.7, self.pose_data, style='normal', fontsize=10,\n",
    "        bbox={'facecolor': 'red','alpha': 0,'pad': 0})\n",
    "        self.info_ax.text(0.1, 0.60, 'VELOCITIES', style='oblique', fontsize=16,\n",
    "        bbox={'facecolor': 'red','alpha': 0.5, 'pad': 10})\n",
    "        self.info_ax.text(0.1, 0.25, 'GOAL INFO', style='oblique', fontsize=16,\n",
    "        bbox={'facecolor': 'red','alpha': 0.5, 'pad': 10})\n",
    "        self.vel_text = self.info_ax.text(0.05, 0.45, self.vel_data, style='normal', fontsize=10,\n",
    "        bbox={'facecolor': 'red','alpha': 0, 'pad': 0})\n",
    "        self.goal_text = self.info_ax.text(0.05, 0.02, self.goal_data, style='normal', fontsize=10,\n",
    "        bbox={'facecolor': 'red','alpha': 0,'pad': 0})\n",
    "        \n",
    "        \n",
    "    # function for setting the initial state of the axes   \n",
    "    def plot_init(self):\n",
    "        \"\"\"Used for the setting the initial properties of the plot to be animated. \n",
    "\n",
    "        Returns:\n",
    "            [matplotlib.artist.Artist]: it returns the artist objects (line, text, circle....). \n",
    "            This is done so as to know the current state of the artist in order to update the changes to \n",
    "            the artist as oppose recreating the whole artist. \n",
    "        \"\"\"\n",
    "        self.ax.set_xlim(-7.5, 7.5)\n",
    "        self.ax.set_ylim(-7.5, 7.5)\n",
    "        return self.line, self.pose_text, self.vel_text, self.goal_text\n",
    "    \n",
    "    # callback function for taking the Odometry message from the odom topic\n",
    "    def odom_callback(self, msg):\n",
    "        \"\"\"This is a callback function for handling the data coming from the odom topic \n",
    "\n",
    "        Args:\n",
    "            msg (Odometry): Odomtetry message coming from the odom topic \n",
    "        \"\"\"\n",
    "        self.y_data.append(msg.pose.pose.position.y)\n",
    "        self.x_data.append(msg.pose.pose.position.x)\n",
    "        self.l_vel = msg.twist.twist.linear.x\n",
    "        self.a_vel = msg.twist.twist.angular.z\n",
    "        rotation = msg.pose.pose.orientation\n",
    "        quaternion = [rotation.x, rotation.y, rotation.z, rotation.w]\n",
    "        # Using tuple unpacking to get the roll, pitch and yaw values for the euler tuple\n",
    "        (roll, pitch, self.yaw) = euler_from_quaternion(quaternion)\n",
    "      \n",
    "    # function that returns the distance of the robot from the target \n",
    "    def the_distance_to_target(self, target):\n",
    "        \"\"\"This function is used for calculating the distance of the robot fram the goal \n",
    "        position. \n",
    "\n",
    "        Args:\n",
    "            target: The target position of the goal point. \n",
    "\n",
    "        Returns:\n",
    "            [float]: The value of the distance between the robot and the target pose. \n",
    "        \"\"\"\n",
    "\n",
    "        dist_x = target[0] - self.x\n",
    "        dist_y = target[1] - self.y\n",
    "\n",
    "        distance_to_target = sqrt((dist_x * dist_x) + (dist_y * dist_y))\n",
    "        return distance_to_target\n",
    "            \n",
    "    # An update function that would be repeatedly called by the FuncAnimation function\n",
    "    # this function helps update the state of the figure\n",
    "    def update_plot(self, frame): \n",
    "        \"\"\"The is the function called every sec to update the Pose Visualization figure. \n",
    "\n",
    "        Args:\n",
    "            frame (int): The number of frames that has reached. \n",
    "\n",
    "        Returns:\n",
    "            [matplotlib.artist.Artist]: it returns the artist objects (line, text, circle....). \n",
    "            This is done so as to know the current state of the artist in order to update the changes to \n",
    "            the artist as oppose recreating the whole artist. \n",
    "        \"\"\"\n",
    "\n",
    "        # for updating the line artist based on the most resent data for plotting the line. \n",
    "        self.line.set_data(self.x_data, self.y_data)\n",
    "        \n",
    "\n",
    "        if len(self.x_data) != 0:\n",
    "\n",
    "            # for updating the arrow for orientation and the circle for robot pose.\n",
    "            self.arrow.remove()\n",
    "            self.circle.remove()\n",
    "            self.x = self.x_data[-1]\n",
    "            self.y = self.y_data[-1]\n",
    "            self.arrow = Arrow(self.x, self.y, (cos(self.yaw)), (sin(self.yaw)))\n",
    "            self.ax.add_patch(self.arrow)\n",
    "            self.circle = Circle((self.x, self.y), radius=0.4, label='Robot Pose')\n",
    "            self.ax.add_patch(self.circle)\n",
    "            \n",
    "            # for updating the value of the data displayed on the information axes. \n",
    "            self.pose_data = f'X: {self.x:.4f}\\n\\nY: {self.y:.4f}\\n\\nOrientation: {self.yaw:.4f}'\n",
    "            self.vel_data = f'Linear Velocity: {self.l_vel:.4f}\\n\\nAngular Velocity: {self.a_vel:.4f}'\n",
    "            if rospy.has_param('/target_point'):\n",
    "                target_point = rospy.get_param('/target_point')\n",
    "                distance_to_target = self.the_distance_to_target(target_point)\n",
    "                self.goal_data = f'TARGET:\\n\\n    x: {target_point[0]:.4f}\\n    y: {target_point[1]:.4f}\\n\\nDistance to Target: {distance_to_target:.4f}'\n",
    "            self.pose_text.set_text(self.pose_data)\n",
    "            self.vel_text.set_text(self.vel_data)\n",
    "            self.goal_text.set_text(self.goal_data)\n",
    "            \n",
    "        if rospy.has_param('/target_point'):\n",
    "            target_point = rospy.get_param('/target_point')\n",
    "            self.target.remove()\n",
    "            self.target = Circle((target_point[0], target_point[1]), radius=0.2, color='r', label='Goal Point')\n",
    "            self.ax.add_patch(self.target)\n",
    "        #self.line.set_data(self.x_data, self.y_data)  # to be confirmed*****\n",
    "        self.ax.legend(loc=1, shadow=True, facecolor='#faebd7', fontsize=8)\n",
    "        return self.line, self.pose_text, self.vel_text, self.goal_text\n",
    "    \n",
    "    def clear_path(self, event):\n",
    "        \"\"\"This is the callback function for handling the clear path event,\n",
    "        when the function is being called, it sets the x and y axis to an empty list\n",
    "        \"\"\"\n",
    "        self.x_data = []\n",
    "        self.y_data = []\n",
    "        "
   ]
  },
  {
   "cell_type": "code",
   "execution_count": 3,
   "id": "e9688367",
   "metadata": {
    "ExecuteTime": {
     "end_time": "2021-07-19T18:35:22.829411Z",
     "start_time": "2021-07-19T18:35:22.811612Z"
    }
   },
   "outputs": [],
   "source": [
    "\n",
    "class AnalysisPlots:\n",
    "    \"\"\"This is a class for the creation of the figure containing an axis for plotting a bar plot for \n",
    "    reached and canceled targets and an axes containing an axes for plot the histogram for visualizing the\n",
    "    frequency of the time is takes the robot to reach a target. \n",
    "    \"\"\"\n",
    "    def __init__(self):\n",
    "        self.reached_target = 0\n",
    "        self.canceled_target = 0\n",
    "        self.time_to_target = []\n",
    "        self.fig = plt.figure(figsize=(8,8))\n",
    "    \n",
    "    def get_analysis_data(self):\n",
    "        \"\"\"This function is used for getting the value of all the required data that is being stored in a\n",
    "        parameter server by the go to point ros node. \n",
    "        \"\"\"\n",
    "        if (rospy.has_param('/reached_target')):\n",
    "            self.reached_target = rospy.get_param('/reached_target')\n",
    "        if (rospy.has_param('/canceled_target')):\n",
    "            self.canceled_target = rospy.get_param('/canceled_target')\n",
    "        if (rospy.has_param('/target_time')):\n",
    "            self.time_to_target = rospy.get_param('/target_time')\n",
    "            \n",
    "    def init_barplot(self):\n",
    "        \"\"\"This is function used for defining the initial properties of the barplot. \n",
    "        \"\"\"\n",
    "        self.axes_2 = self.fig.add_axes([0.1, 0.1, 0.7, 0.1])\n",
    "        self.axbar = self.fig.add_axes([0.7, 0, 0.15, 0.05])\n",
    "        self.axes_2.set_title('Number of Canceled and Reached Targets')\n",
    "        self.get_analysis_data()\n",
    "        self.axes_2.barh(('Reached\\nTarget', 'Canceled\\nTarget'),(self.reached_target, self.canceled_target),color=[ 'green','red'])\n",
    "              \n",
    "    def init_histplot(self):\n",
    "        \"\"\"This is a function used for defining the initial properties of the histplot. \n",
    "        \"\"\"\n",
    "        self.axes_1 = self.fig.add_axes([0.1, 0.4, 0.7, 0.5])\n",
    "        self.axhist = self.fig.add_axes([0.7, 0.3, 0.15, 0.05])\n",
    "        self.axes_1.set_title('Time to Reach Targets')\n",
    "        self.axes_1.set_xlabel('Time to reach target')\n",
    "        self.axes_1.set_ylabel('Frequency')\n",
    "        self.get_analysis_data()\n",
    "        self.axes_1.hist(self.time_to_target, stacked=True, color='skyblue')\n",
    "\n",
    "    def reload_bar(self, event):\n",
    "        \"\"\"This is a callback function used for handling the reload bar plot event. \n",
    "        it updates the plot with the most recent data gotten from the parameter server. \n",
    "        \"\"\"\n",
    "        self.axes_2.cla()\n",
    "        self.init_barplot()\n",
    "    \n",
    "    \n",
    "    def reload_hist(self, event):\n",
    "        \"\"\"This is a callback function used for handling the reload hist plot event. \n",
    "        it updates the plot with the most recent data gotten from the parameter server. \n",
    "        \"\"\"\n",
    "        self.axes_1.cla()\n",
    "        self.init_histplot()\n"
   ]
  },
  {
   "cell_type": "code",
   "execution_count": 4,
   "id": "73200721",
   "metadata": {
    "ExecuteTime": {
     "end_time": "2021-07-19T18:35:22.849673Z",
     "start_time": "2021-07-19T18:35:22.832863Z"
    }
   },
   "outputs": [],
   "source": [
    "        \n",
    "class VelocityAnalysis:\n",
    "    \"\"\"This is a class used for the creation of the figure that contains the axes for displaying \n",
    "    the actual and cmd_vel velocities of the robot, both (linear and angular)\n",
    "    \"\"\"\n",
    "    def __init__(self):\n",
    "        self.fig = plt.figure(figsize=(8, 6))\n",
    "\n",
    "        # Creating the axis to plot on\n",
    "        self.ax1 = self.fig.add_axes([0.1, 0.6, 0.8, 0.35])\n",
    "        self.ax2 = self.fig.add_axes([0.1, 0.1, 0.8, 0.35])\n",
    "\n",
    "        # Creating the line to add to the axis\n",
    "        self.line1 = Line2D([], [],color='#c30000', label='Actual Velocity')\n",
    "        self.line2 = Line2D([], [],color='#2afff9', label='Actual Velocity')\n",
    "        self.line3 = Line2D([], [],color='#11D005', label='CMD_VEL')\n",
    "        self.line4 = Line2D([], [],color='#344eff', label='CMD_VEL')\n",
    "\n",
    "        # Add the lines to the axis \n",
    "        self.ax1.add_line(self.line1)\n",
    "        self.ax2.add_line(self.line2)\n",
    "        self.ax1.add_line(self.line3)\n",
    "        self.ax2.add_line(self.line4)\n",
    "\n",
    "        # Initialize data list\n",
    "        self.vel1, self.vel11 = [], 0\n",
    "        self.vel2, self.vel21 = [], 0            \n",
    "        self.vel3, self.vel31 = [], 0            \n",
    "        self.vel4, self.vel41 = [], 0\n",
    "        self.count, self.count1 = [], 0\n",
    "\n",
    "\n",
    "    def plot_init(self):\n",
    "        \"\"\"This function is used for setting the initial properties of the plots (linear, angular)\n",
    "\n",
    "        Returns:\n",
    "            [matplotlib.lines.Line2D]: it returns the line artist object. This is done so as to know\n",
    "            the current state of the artist in order to update the changes to \n",
    "            the artist as oppose recreating the whole artist. \n",
    "        \"\"\"\n",
    "        self.ax1.set_ylim(-2.0, 2.0)\n",
    "        self.ax1.set_xlim(0, 60)\n",
    "        self.ax1.set_title('Linear Velocity of Robot in Time')\n",
    "        self.ax1.set_ylabel('Velocity')\n",
    "        self.ax1.set_xlabel('Time in Seconds(s)')\n",
    "        self.ax1.legend(loc=2, shadow=True, facecolor='#faebd7', fontsize=9)\n",
    "        self.ax2.set_ylim(-2.0, 2.0)\n",
    "        self.ax2.set_xlim(0, 60)\n",
    "        self.ax2.set_title('Angular Velocity of Robot in Time')\n",
    "        self.ax2.set_ylabel('Velocity')\n",
    "        self.ax2.set_xlabel('Time in Seconds(s)')\n",
    "        self.ax2.legend(loc=2, shadow=True, facecolor='#faebd7', fontsize=9)\n",
    "        return self.line1, self.line2, self.line3, self.line4\n",
    "\n",
    "    def odom_callback(self, msg):\n",
    "        \"\"\"This is a callback function for handling the data coming from the odom topic \n",
    "\n",
    "        Args:\n",
    "            msg (Odometry): Odomtetry message coming from the odom topic \n",
    "        \"\"\"\n",
    "        self.vel11 = msg.twist.twist.linear.x\n",
    "        self.vel21 = msg.twist.twist.angular.z\n",
    "\n",
    "    def cmd_callback(self, msg):\n",
    "        \"\"\"This is a callback funtion for handling the data coming from the cmd topic\n",
    "\n",
    "        Args:\n",
    "            msg (Twist): Twist message coming from the cmd_vel topic \n",
    "        \"\"\"\n",
    "        self.vel31 = msg.linear.x\n",
    "        self.vel41 = msg.angular.z\n",
    "\n",
    "    def update_plot(self, frame):\n",
    "        \"\"\"This is a function for updating the plots on each of the axes\n",
    "\n",
    "        Args:\n",
    "            frame (int): This is the amount of frames the animation has published.\n",
    "\n",
    "        Returns:\n",
    "            [matplotlib.lines.Line2D]: it returns the line artist object. This is done so as to know\n",
    "            the current state of the artist in order to update the changes to \n",
    "            the artist as oppose recreating the whole artist. \n",
    "        \"\"\"\n",
    "        self.vel1.append(self.vel11)\n",
    "        self.vel2.append(self.vel21)\n",
    "        self.vel3.append(self.vel31)\n",
    "        self.vel4.append(self.vel41)\n",
    "        self.count.append(self.count1)\n",
    "        self.count1 += 1\n",
    "        if (len(self.count) > 60):\n",
    "            # This for updating the limits of the axes to accomodate the new size of the plot list value\n",
    "            # also the list size is cut to the size of data that would be displayed on the plot. \n",
    "            time_len = self.count1 #len(self.count)\n",
    "            x_lim = time_len - 60\n",
    "            self.ax1.set_xlim(x_lim, (60 + x_lim))\n",
    "            self.ax2.set_xlim(x_lim, (60 + x_lim))\n",
    "            self.vel1 = self.vel1[-60:]\n",
    "            self.vel2 = self.vel2[-60:]\n",
    "            self.vel3 = self.vel3[-60:]\n",
    "            self.vel4 = self.vel4[-60:]\n",
    "            self.count = self.count[-60:]\n",
    "            \n",
    "        self.line1.set_data(self.count, self.vel1)\n",
    "        self.line2.set_data(self.count, self.vel2)\n",
    "        self.line3.set_data(self.count, self.vel3)\n",
    "        self.line4.set_data(self.count, self.vel4)\n",
    "        return self.line1, self.line2, self.line3, self.line4\n"
   ]
  },
  {
   "cell_type": "markdown",
   "id": "e32b8e7c",
   "metadata": {},
   "source": [
    "### Required Function\n",
    "\n",
    "The functions below are the functions used to define the sequence of events that occurs when a user interact with each of the IpyButtons and Sliders"
   ]
  },
  {
   "cell_type": "code",
   "execution_count": 5,
   "id": "impressed-wallet",
   "metadata": {
    "ExecuteTime": {
     "end_time": "2021-07-19T18:35:22.871631Z",
     "start_time": "2021-07-19T18:35:22.852548Z"
    },
    "scrolled": true
   },
   "outputs": [],
   "source": [
    "def start_simulation(a):\n",
    "    ui_client(\"start\")\n",
    "    start_button.button_style = 'success'\n",
    "    stop_button.button_style = ''\n",
    "    \n",
    "def stop_simulation(b):\n",
    "    ui_client(\"stop\")\n",
    "    start_button.button_style = ''\n",
    "    stop_button.button_style = 'danger'  \n",
    "    \n",
    "def move_forward(a):\n",
    "    if (rospy.has_param('/linear_velocity')):\n",
    "        lv_multiplier = rospy.get_param('/linear_velocity')\n",
    "    else:\n",
    "        lv_multiplier = 1\n",
    "    vel = Twist()\n",
    "    vel.linear.x = lv_multiplier*0.5\n",
    "    pub.publish(vel)\n",
    "    up_button.button_style = 'info'\n",
    "    down_button.button_style = ''\n",
    "    left_button.button_style = ''\n",
    "    right_button.button_style = ''\n",
    "    stop.button_style = ''\n",
    "    \n",
    "    \n",
    "def move_backward(a):\n",
    "    if (rospy.has_param('/linear_velocity')):\n",
    "        lv_multiplier = rospy.get_param('/linear_velocity')\n",
    "    else:\n",
    "        lv_multiplier = 1\n",
    "    vel = Twist()\n",
    "    vel.linear.x = lv_multiplier*(-0.5)\n",
    "    pub.publish(vel)\n",
    "    up_button.button_style = ''\n",
    "    down_button.button_style = 'info'\n",
    "    left_button.button_style = ''\n",
    "    right_button.button_style = ''\n",
    "    stop.button_style = ''\n",
    "  \n",
    "\n",
    "def turn_left(a):\n",
    "    if (rospy.has_param('/angular_velocity')):\n",
    "        av_multiplier = rospy.get_param('/angular_velocity')\n",
    "    else:\n",
    "        av_multiplier = 1\n",
    "    vel = Twist()\n",
    "    vel.angular.z = av_multiplier*(-0.5)\n",
    "    pub.publish(vel)\n",
    "    up_button.button_style = ''\n",
    "    down_button.button_style = ''\n",
    "    left_button.button_style = 'info'\n",
    "    right_button.button_style = ''\n",
    "    stop.button_style = ''\n",
    "   \n",
    "\n",
    "def turn_right(a):\n",
    "    if (rospy.has_param('/angular_velocity')):\n",
    "        av_multiplier = rospy.get_param('/angular_velocity')\n",
    "    else:\n",
    "        av_multiplier = 1\n",
    "    vel = Twist()\n",
    "    vel.angular.z = av_multiplier*(0.5)\n",
    "    pub.publish(vel)\n",
    "    up_button.button_style = ''\n",
    "    down_button.button_style = ''\n",
    "    left_button.button_style = ''\n",
    "    right_button.button_style = 'info'\n",
    "    stop.button_style = ''\n",
    "\n",
    "    \n",
    "def stop_movement(a):\n",
    "    vel = Twist()\n",
    "    vel.linear.x = 0.0\n",
    "    vel.angular.z = 0.0\n",
    "    pub.publish(vel)\n",
    "    up_button.button_style = ''\n",
    "    down_button.button_style = ''\n",
    "    left_button.button_style = ''\n",
    "    right_button.button_style = ''\n",
    "    stop.button_style = 'danger'\n",
    "    \n",
    "    \n",
    "def on_value_change(change):\n",
    "    x = change['new']\n",
    "    rospy.set_param('/linear_velocity', x)\n",
    "    \n",
    "    \n",
    "def on_valueang_change(change):\n",
    "    z = change['new']\n",
    "    rospy.set_param('/angular_velocity', z)\n",
    "\n",
    "\n",
    "def button_event():\n",
    "    start_button.on_click(start_simulation)\n",
    "    stop_button.on_click(stop_simulation)\n",
    "    up_button.on_click(move_forward)\n",
    "    down_button.on_click(move_backward)\n",
    "    left_button.on_click(turn_left)\n",
    "    right_button.on_click(turn_right)\n",
    "    stop.on_click(stop_movement)\n",
    "    l_velSlider.observe(on_value_change, names='value')\n",
    "    a_velSlider.observe(on_valueang_change, names='value')\n",
    "    \n",
    "\n",
    "   "
   ]
  },
  {
   "cell_type": "code",
   "execution_count": 6,
   "id": "98c8cddd",
   "metadata": {
    "ExecuteTime": {
     "end_time": "2021-07-19T18:35:22.889470Z",
     "start_time": "2021-07-19T18:35:22.874382Z"
    }
   },
   "outputs": [],
   "source": [
    "## Main function for initialising the ros node and calling all the button events\n",
    "def main():\n",
    "    rospy.init_node('user_interface')\n",
    "    button_event()"
   ]
  },
  {
   "cell_type": "markdown",
   "id": "f1b242c8",
   "metadata": {},
   "source": [
    "### Figure 1\n",
    "Figure 1 gives both a textual and graphical visualisation of the Robot State and the goal position, it also features a button called **Clear Path**; this button is used for clearing the path that has been plotted. Below the figure is a slider for controlling the rate of the linear and angular velocity of the robot."
   ]
  },
  {
   "cell_type": "code",
   "execution_count": 7,
   "id": "387d15ec",
   "metadata": {
    "ExecuteTime": {
     "end_time": "2021-07-18T23:28:54.113266Z",
     "start_time": "2021-07-18T23:28:53.289096Z"
    }
   },
   "outputs": [
    {
     "data": {
      "application/vnd.jupyter.widget-view+json": {
       "model_id": "6616f6901b5b4de5afbff1c9d26939a6",
       "version_major": 2,
       "version_minor": 0
      },
      "text/plain": [
       "Canvas(toolbar=Toolbar(toolitems=[('Home', 'Reset original view', 'home', 'home'), ('Back', 'Back to previous …"
      ]
     },
     "metadata": {},
     "output_type": "display_data"
    },
    {
     "data": {
      "application/vnd.jupyter.widget-view+json": {
       "model_id": "3d40eeb48d47460287ee96265c7f34d4",
       "version_major": 2,
       "version_minor": 0
      },
      "text/plain": [
       "VBox(children=(FloatSlider(value=1.0, description='Linear Velocity: ', max=2.0), FloatSlider(value=1.0, descri…"
      ]
     },
     "metadata": {},
     "output_type": "display_data"
    }
   ],
   "source": [
    "%matplotlib widget\n",
    "rospy.wait_for_service('/user_interface')\n",
    "try:\n",
    "    ui_client = rospy.ServiceProxy('/user_interface', Command)\n",
    "except rospy.ServiceException as e:\n",
    "    print(f'Service call failed: {e}')\n",
    "    \n",
    "main()\n",
    "vis = Visualiser()\n",
    "    \n",
    "pub = rospy.Publisher('/cmd_vel', Twist, queue_size=10)\n",
    "sub = rospy.Subscriber('/odom', Odometry, vis.odom_callback)\n",
    "ani = FuncAnimation(vis.fig, vis.update_plot, init_func=vis.plot_init, blit=True)\n",
    "\n",
    "clear_path = Btn(vis.btax, 'Clear Path')\n",
    "clear_path.on_clicked(vis.clear_path)\n",
    "plt.show(block=True)\n",
    "    \n",
    "VBox([l_velSlider, a_velSlider])"
   ]
  },
  {
   "cell_type": "markdown",
   "id": "34f7edcc",
   "metadata": {},
   "source": [
    "### Control Buttons\n",
    "**Start Button**: The start button is for starting the robot motion, allowng it to go to randomly generated goal position in the 3D Simulation. The button is green when the simulation has started and gray when it is stopped. \n",
    "\n",
    "**Stop Buttin**: The stop button is for stoping the simulation. The button is red when the simulation has been stopped and gray when the simulation has started. \n",
    "\n",
    "Another set of button is what i call the **\"Control Pad\"**, this set of buttons consisting of the up, down, left and right arrow can be used to manually control the robot to move around the 3D Simulation environment. Note, it doesnt work when the random goal simulation has been started with the start button; to use these Control Pad, the simulation has to be stopped with the stop button. The Control Pad controls can however be preempted by the Start button to start the random goal simulation "
   ]
  },
  {
   "cell_type": "code",
   "execution_count": 8,
   "id": "conscious-savage",
   "metadata": {
    "ExecuteTime": {
     "end_time": "2021-07-18T23:28:54.177039Z",
     "start_time": "2021-07-18T23:28:54.120412Z"
    },
    "tags": []
   },
   "outputs": [
    {
     "data": {
      "application/vnd.jupyter.widget-view+json": {
       "model_id": "4f1af1a61e274b95915fcf75a870043d",
       "version_major": 2,
       "version_minor": 0
      },
      "text/plain": [
       "HBox(children=(Button(description='Start', icon='play', layout=Layout(height='80px', width='50%'), style=Butto…"
      ]
     },
     "metadata": {},
     "output_type": "display_data"
    }
   ],
   "source": [
    "HBox([start_button, stop_button])"
   ]
  },
  {
   "cell_type": "code",
   "execution_count": 9,
   "id": "tracked-place",
   "metadata": {
    "ExecuteTime": {
     "end_time": "2021-07-18T23:28:54.353375Z",
     "start_time": "2021-07-18T23:28:54.182269Z"
    },
    "tags": []
   },
   "outputs": [
    {
     "data": {
      "application/vnd.jupyter.widget-view+json": {
       "model_id": "72bb030a3b1748618727b76b236e3e92",
       "version_major": 2,
       "version_minor": 0
      },
      "text/plain": [
       "GridBox(children=(Button(icon='arrow-up', layout=Layout(grid_area='up', height='50px', width='auto'), style=Bu…"
      ]
     },
     "metadata": {},
     "output_type": "display_data"
    }
   ],
   "source": [
    "display(control_pad)"
   ]
  },
  {
   "cell_type": "markdown",
   "id": "24345cd9",
   "metadata": {},
   "source": [
    "### Figure 2\n",
    "This figure is used for displaying the *linear* and *angular* velocity of the robot, by comparing the velocity being sent to the robot through the **cmd_vel** and the **actual velocity** that the robot is moving at. \n"
   ]
  },
  {
   "cell_type": "code",
   "execution_count": 10,
   "id": "790e4b87",
   "metadata": {
    "ExecuteTime": {
     "end_time": "2021-07-18T23:28:54.647516Z",
     "start_time": "2021-07-18T23:28:54.366255Z"
    },
    "tags": []
   },
   "outputs": [
    {
     "data": {
      "application/vnd.jupyter.widget-view+json": {
       "model_id": "93890efc2fa84b948772c2bb6fe7a9a6",
       "version_major": 2,
       "version_minor": 0
      },
      "text/plain": [
       "Canvas(toolbar=Toolbar(toolitems=[('Home', 'Reset original view', 'home', 'home'), ('Back', 'Back to previous …"
      ]
     },
     "metadata": {},
     "output_type": "display_data"
    }
   ],
   "source": [
    "vel_analysis = VelocityAnalysis()\n",
    "    \n",
    "sub2 = rospy.Subscriber('/cmd_vel', Twist, vel_analysis.cmd_callback)\n",
    "sub3 = rospy.Subscriber('/odom', Odometry, vel_analysis.odom_callback)\n",
    "anim = FuncAnimation(vel_analysis.fig, vel_analysis.update_plot, init_func=vel_analysis.plot_init, blit=True, interval=1000)\n",
    "plt.show(block=True)"
   ]
  },
  {
   "cell_type": "markdown",
   "id": "8bdffe7f",
   "metadata": {},
   "source": [
    "### Figure 3\n",
    "The figure 3 contains two plot the **Histogram plot** and the **Bar plot**. \n",
    "\n",
    "**Histogram Plot**: *The histogram plot is used for showing the frequency of time it take the robot to reach the goal position.*\n",
    "\n",
    "**Bar Plot**: _The Bar Plot is used for visualising the number of **Reached Targets** and **Canceled Target**_\n",
    "\n",
    "These plot are not live plots, to check the most recent plot, two buttons have been provided, **Reload HisPlot** and **Reload BarPlot**; these two button are used to update the plot with the most recent data gotten from the Parameter Server in which they are being stored. "
   ]
  },
  {
   "cell_type": "code",
   "execution_count": 11,
   "id": "broadband-rating",
   "metadata": {
    "ExecuteTime": {
     "end_time": "2021-07-18T23:28:55.238684Z",
     "start_time": "2021-07-18T23:28:54.651522Z"
    }
   },
   "outputs": [
    {
     "data": {
      "application/vnd.jupyter.widget-view+json": {
       "model_id": "a9a012c3d3f9444d984304223d795b4d",
       "version_major": 2,
       "version_minor": 0
      },
      "text/plain": [
       "Canvas(toolbar=Toolbar(toolitems=[('Home', 'Reset original view', 'home', 'home'), ('Back', 'Back to previous …"
      ]
     },
     "metadata": {},
     "output_type": "display_data"
    }
   ],
   "source": [
    "anaplot = AnalysisPlots()\n",
    "anaplot.init_barplot()\n",
    "anaplot.init_histplot()\n",
    "\n",
    "bplot = Btn(anaplot.axbar, 'Reload BarPlot')\n",
    "hplot = Btn(anaplot.axhist, 'Reload HistPlot')\n",
    "bplot.on_clicked(anaplot.reload_bar)\n",
    "hplot.on_clicked(anaplot.reload_hist)\n",
    "plt.show()"
   ]
  },
  {
   "cell_type": "code",
   "execution_count": null,
   "id": "10ea4b2a",
   "metadata": {},
   "outputs": [],
   "source": []
  }
 ],
 "metadata": {
  "hide_input": false,
  "interpreter": {
   "hash": "0075869c5e1e9f1a67625e8b0e2de3952e5de208efa237d1ce1a4f466ca5e275"
  },
  "kernelspec": {
   "display_name": "Python 3 (ipykernel)",
   "language": "python",
   "name": "python3"
  },
  "language_info": {
   "codemirror_mode": {
    "name": "ipython",
    "version": 3
   },
   "file_extension": ".py",
   "mimetype": "text/x-python",
   "name": "python",
   "nbconvert_exporter": "python",
   "pygments_lexer": "ipython3",
   "version": "3.8.10"
  },
  "toc": {
   "base_numbering": 1,
   "nav_menu": {},
   "number_sections": true,
   "sideBar": true,
   "skip_h1_title": false,
   "title_cell": "Table of Contents",
   "title_sidebar": "Contents",
   "toc_cell": false,
   "toc_position": {},
   "toc_section_display": true,
   "toc_window_display": false
  },
  "varInspector": {
   "cols": {
    "lenName": 16,
    "lenType": 16,
    "lenVar": 40
   },
   "kernels_config": {
    "python": {
     "delete_cmd_postfix": "",
     "delete_cmd_prefix": "del ",
     "library": "var_list.py",
     "varRefreshCmd": "print(var_dic_list())"
    },
    "r": {
     "delete_cmd_postfix": ") ",
     "delete_cmd_prefix": "rm(",
     "library": "var_list.r",
     "varRefreshCmd": "cat(var_dic_list()) "
    }
   },
   "types_to_exclude": [
    "module",
    "function",
    "builtin_function_or_method",
    "instance",
    "_Feature"
   ],
   "window_display": false
  }
 },
 "nbformat": 4,
 "nbformat_minor": 5
}
