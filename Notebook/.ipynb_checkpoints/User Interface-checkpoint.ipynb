{
 "cells": [
  {
   "cell_type": "markdown",
   "id": "adjacent-stephen",
   "metadata": {
    "hide_input": true
   },
   "source": [
    "# Reasearch Track II Assignment 2\n",
    "\n",
    "---\n",
    "\n",
    "**Author's Name: Omotoye Shamsudeen Adekoya** <br>\n",
    "**Student ID: 5066348**\n",
    "\n",
    "---\n",
    "\n",
    "## NoteBook Description\n",
    "\n",
    "This Notebook has two functions; it serves as a user interface for the control of non-holonomic robot in a 3D environment and it also show a graphical feedback of the robot state and behaviour. "
   ]
  },
  {
   "cell_type": "code",
   "execution_count": 15,
   "id": "emerging-steam",
   "metadata": {
    "ExecuteTime": {
     "end_time": "2021-07-08T15:45:08.544126Z",
     "start_time": "2021-07-08T15:45:08.460973Z"
    }
   },
   "outputs": [],
   "source": [
    "import ipywidgets as widgets\n",
    "from ipywidgets import Button, Layout, HBox, VBox, GridBox, Layout, ButtonStyle \n",
    "\n",
    "import matplotlib.pyplot as plt\n",
    "from matplotlib.animation import FuncAnimation\n",
    "from matplotlib.widgets import Button as Btn\n",
    "from matplotlib.lines import Line2D \n",
    "from matplotlib.patches import Arrow, Circle\n",
    "\n",
    "import rospy\n",
    "import tf\n",
    "from nav_msgs.msg import Odometry\n",
    "from rt2_assignment2.srv import Command, RandomPosition\n",
    "from geometry_msgs.msg import Twist\n",
    "from nav_msgs.msg import Odometry \n",
    "from tf.transformations import euler_from_quaternion\n",
    "\n",
    "from math import *\n",
    "import time\n",
    "\n",
    "from all_buttons import *\n",
    "\n",
    "%matplotlib widget\n",
    "plt.style.use('ggplot')"
   ]
  },
  {
   "cell_type": "markdown",
   "id": "consolidated-contemporary",
   "metadata": {},
   "source": [
    "## Robot Control"
   ]
  },
  {
   "cell_type": "code",
   "execution_count": 16,
   "id": "amazing-currency",
   "metadata": {
    "ExecuteTime": {
     "end_time": "2021-07-08T15:45:08.866268Z",
     "start_time": "2021-07-08T15:45:08.699346Z"
    }
   },
   "outputs": [],
   "source": [
    "class Visualiser:\n",
    "    def __init__(self):\n",
    "        self.fig = plt.figure(figsize=(8,6))\n",
    "        self.ax = self.fig.add_axes([0.45,0.17,0.52,0.70])\n",
    "        self.info_ax = self.fig.add_axes([0.05,0.05, 0.30,0.9])\n",
    "        self.info_ax.grid(False)\n",
    "        self.info_ax.set_facecolor('#faebd7')\n",
    "        self.info_ax.tick_params(left = False, right = False , labelleft = False ,\n",
    "                labelbottom = False, bottom = False)\n",
    "        self.btax = self.fig.add_axes([0.8, 0.02, 0.2, 0.05])\n",
    "        self.line = Line2D([],[], color='g', label='Motion Path', marker='.',\n",
    "     markerfacecolor='blue')\n",
    "        self.ax.add_line(self.line)\n",
    "        self.arrow = Arrow(0, 0, 0, 0)\n",
    "        self.ax.add_patch(self.arrow)\n",
    "        self.circle = Circle((0, 0), radius=0, label='Robot Pose')\n",
    "        self.ax.add_patch(self.circle)\n",
    "        self.target = Circle((0, 0), radius=0,  color='r',label='Goal Point')\n",
    "        self.ax.add_patch(self.target)\n",
    "        self.ax.set_title('Robot Position and Goal Visualizer')\n",
    "        self.ax.set_xlabel('X Coordinate')\n",
    "        self.ax.set_ylabel('Y Coordinate')\n",
    "        self.x_data, self.y_data = [], []\n",
    "        self.pose_data = 'X: 0.0\\n\\nY: 0.0\\n\\nOrientation: 0.0'\n",
    "        self.vel_data = 'Linear Velocity: 0.0\\n\\nAngular Velocity: 0.0'\n",
    "        self.goal_data = 'TARGET:\\n\\n    x: 0.0\\n    y: 0.0\\n\\nDistance to Target: 0.0'\n",
    "        self.info_ax.text(0.1, 0.92, 'POSITION', style='oblique', fontsize=16,\n",
    "        bbox={'facecolor': 'red','alpha': 0.5, 'pad': 10})\n",
    "        self.pose_text = self.info_ax.text(0.05, 0.7, self.pose_data, style='normal', fontsize=10,\n",
    "        bbox={'facecolor': 'red','alpha': 0,'pad': 0})\n",
    "        self.info_ax.text(0.1, 0.60, 'VELOCITIES', style='oblique', fontsize=16,\n",
    "        bbox={'facecolor': 'red','alpha': 0.5, 'pad': 10})\n",
    "        self.info_ax.text(0.1, 0.25, 'GOAL INFO', style='oblique', fontsize=16,\n",
    "        bbox={'facecolor': 'red','alpha': 0.5, 'pad': 10})\n",
    "        self.vel_text = self.info_ax.text(0.05, 0.45, self.vel_data, style='normal', fontsize=10,\n",
    "        bbox={'facecolor': 'red','alpha': 0, 'pad': 0})\n",
    "        self.goal_text = self.info_ax.text(0.05, 0.02, self.goal_data, style='normal', fontsize=10,\n",
    "        bbox={'facecolor': 'red','alpha': 0,'pad': 0})\n",
    "        \n",
    "        \n",
    "        \n",
    "    def plot_init(self):\n",
    "        self.ax.set_xlim(-7.5, 7.5)\n",
    "        self.ax.set_ylim(-7.5, 7.5)\n",
    "        return self.line, self.pose_text, self.vel_text, self.goal_text\n",
    "    \n",
    "    def odom_callback(self, msg):\n",
    "        self.y_data.append(msg.pose.pose.position.y)\n",
    "        self.x_data.append(msg.pose.pose.position.x)\n",
    "        self.l_vel = msg.twist.twist.linear.x\n",
    "        self.a_vel = msg.twist.twist.angular.z\n",
    "        rotation = msg.pose.pose.orientation\n",
    "        quaternion = [rotation.x, rotation.y, rotation.z, rotation.w]\n",
    "        # Using tuple unpacking to get the roll, pitch and yaw values for the euler tuple\n",
    "        (roll, pitch, self.yaw) = euler_from_quaternion(quaternion)\n",
    "        \n",
    "    def the_distance_to_target(self, target):\n",
    "\n",
    "        dist_x = target[0] - self.x\n",
    "        dist_y = target[1] - self.y\n",
    "\n",
    "        distance_to_target = sqrt((dist_x * dist_x) + (dist_y * dist_y))\n",
    "        return distance_to_target\n",
    "        \n",
    "    def update_plot(self, frame): \n",
    "        self.line.set_data(self.x_data, self.y_data)\n",
    "        \n",
    "        if len(self.x_data) != 0:\n",
    "            self.arrow.remove()\n",
    "            self.circle.remove()\n",
    "            self.x = self.x_data[-1]\n",
    "            self.y = self.y_data[-1]\n",
    "            self.arrow = Arrow(self.x, self.y, (cos(self.yaw)), (sin(self.yaw)))\n",
    "            self.ax.add_patch(self.arrow)\n",
    "            self.circle = Circle((self.x, self.y), radius=0.4, label='Robot Pose')\n",
    "            self.ax.add_patch(self.circle)\n",
    "            \n",
    "            self.pose_data = f'X: {self.x:.4f}\\n\\nY: {self.y:.4f}\\n\\nOrientation: {self.yaw:.4f}'\n",
    "            self.vel_data = f'Linear Velocity: {self.l_vel:.4f}\\n\\nAngular Velocity: {self.a_vel:.4f}'\n",
    "            if rospy.has_param('/target_point'):\n",
    "                target_point = rospy.get_param('/target_point')\n",
    "                distance_to_target = self.the_distance_to_target(target_point)\n",
    "                self.goal_data = f'TARGET:\\n\\n    x: {target_point[0]:.4f}\\n    y: {target_point[1]:.4f}\\n\\nDistance to Target: {distance_to_target:.4f}'\n",
    "            self.pose_text.set_text(self.pose_data)\n",
    "            self.vel_text.set_text(self.vel_data)\n",
    "            self.goal_text.set_text(self.goal_data)\n",
    "            \n",
    "        if rospy.has_param('/target_point'):\n",
    "            target_point = rospy.get_param('/target_point')\n",
    "            self.target.remove()\n",
    "            self.target = Circle((target_point[0], target_point[1]), radius=0.2, color='r', label='Goal Point')\n",
    "            self.ax.add_patch(self.target)\n",
    "        self.line.set_data(self.x_data, self.y_data)\n",
    "        self.ax.legend(loc=1, shadow=True, facecolor='#faebd7', fontsize=8)\n",
    "        return self.line, self.pose_text, self.vel_text, self.goal_text\n",
    "    \n",
    "    def clear_path(self, event):\n",
    "        self.x_data = []\n",
    "        self.y_data = []\n",
    "        \n",
    "\n",
    "class AnalysisPlots:\n",
    "    def __init__(self):\n",
    "        self.reached_target = 0\n",
    "        self.canceled_target = 0\n",
    "        self.time_to_target = []\n",
    "        self.fig = plt.figure(figsize=(8,8))\n",
    "    \n",
    "    def get_analysis_data(self):\n",
    "        if (rospy.has_param('/reached_target')):\n",
    "            self.reached_target = rospy.get_param('/reached_target')\n",
    "        if (rospy.has_param('/canceled_target')):\n",
    "            self.canceled_target = rospy.get_param('/canceled_target')\n",
    "        if (rospy.has_param('/target_time')):\n",
    "            self.time_to_target = rospy.get_param('/target_time')\n",
    "            \n",
    "    def init_barplot(self):\n",
    "        self.axes_2 = self.fig.add_axes([0.1, 0.1, 0.7, 0.1])\n",
    "        self.axbar = self.fig.add_axes([0.7, 0, 0.15, 0.05])\n",
    "        self.axes_2.set_title('Number of Canceled and Reached Targets')\n",
    "        self.get_analysis_data()\n",
    "        self.axes_2.barh(('Reached\\nTarget', 'Canceled\\nTarget'),(self.reached_target, self.canceled_target),color=[ 'green','red'])\n",
    "              \n",
    "    def init_histplot(self):\n",
    "        self.axes_1 = self.fig.add_axes([0.1, 0.4, 0.7, 0.5])\n",
    "        self.axhist = self.fig.add_axes([0.7, 0.3, 0.15, 0.05])\n",
    "        self.axes_1.set_title('Time to Reach Targets')\n",
    "        self.axes_1.set_xlabel('Time to reach target')\n",
    "        self.axes_1.set_ylabel('Frequency')\n",
    "        self.get_analysis_data()\n",
    "        self.axes_1.hist(self.time_to_target, stacked=True, color='skyblue')\n",
    "\n",
    "    def reload_bar(self, event):\n",
    "        self.axes_2.cla()\n",
    "        self.init_barplot()\n",
    "    \n",
    "    \n",
    "    def reload_hist(self, event):\n",
    "        self.axes_1.cla()\n",
    "        self.init_histplot()\n",
    "        \n",
    "class VelocityAnalysis:\n",
    "    def __init__(self):\n",
    "        self.fig = plt.figure(figsize=(8, 6))\n",
    "\n",
    "        # Creating the axis to plot on\n",
    "        self.ax1 = self.fig.add_axes([0.1, 0.6, 0.8, 0.35])\n",
    "        self.ax2 = self.fig.add_axes([0.1, 0.1, 0.8, 0.35])\n",
    "\n",
    "        # Creating the line to add to the axis\n",
    "        self.line1 = Line2D([], [],color='#c30000', label='Actual Velocity')\n",
    "        self.line2 = Line2D([], [],color='#2afff9', label='Actual Velocity')\n",
    "        self.line3 = Line2D([], [],color='#11D005', label='CMD_VEL')\n",
    "        self.line4 = Line2D([], [],color='#344eff', label='CMD_VEL')\n",
    "\n",
    "        # Add the lines to the axis \n",
    "        self.ax1.add_line(self.line1)\n",
    "        self.ax2.add_line(self.line2)\n",
    "        self.ax1.add_line(self.line3)\n",
    "        self.ax2.add_line(self.line4)\n",
    "\n",
    "        # Initialize data list\n",
    "        self.vel1, self.vel11 = [], 0\n",
    "        self.vel2, self.vel21 = [], 0            \n",
    "        self.vel3, self.vel31 = [], 0            \n",
    "        self.vel4, self.vel41 = [], 0\n",
    "        self.count, self.count1 = [], 0\n",
    "\n",
    "\n",
    "    def plot_init(self):\n",
    "        self.ax1.set_ylim(-2.0, 2.0)\n",
    "        self.ax1.set_xlim(0, 60)\n",
    "        self.ax1.set_title('Linear Velocity of Robot in Time')\n",
    "        self.ax1.set_ylabel('Velocity')\n",
    "        self.ax1.set_xlabel('Time in Seconds(s)')\n",
    "        self.ax1.legend(loc=2, shadow=True, facecolor='#faebd7', fontsize=9)\n",
    "        self.ax2.set_ylim(-2.0, 2.0)\n",
    "        self.ax2.set_xlim(0, 60)\n",
    "        self.ax2.set_title('Angular Velocity of Robot in Time')\n",
    "        self.ax2.set_ylabel('Velocity')\n",
    "        self.ax2.set_xlabel('Time in Seconds(s)')\n",
    "        self.ax2.legend(loc=2, shadow=True, facecolor='#faebd7', fontsize=9)\n",
    "        return self.line1, self.line2, self.line3, self.line4\n",
    "\n",
    "    def odom_callback(self, msg):\n",
    "        self.vel11 = msg.twist.twist.linear.x\n",
    "        self.vel21 = msg.twist.twist.angular.z\n",
    "\n",
    "    def cmd_callback(self, msg):\n",
    "        self.vel31 = msg.linear.x\n",
    "        self.vel41 = msg.angular.z\n",
    "\n",
    "    def update_plot(self, frame):\n",
    "        self.vel1.append(self.vel11)\n",
    "        self.vel2.append(self.vel21)\n",
    "        self.vel3.append(self.vel31)\n",
    "        self.vel4.append(self.vel41)\n",
    "        self.count.append(self.count1)\n",
    "        self.count1 += 1\n",
    "        if (len(self.count) > 60):\n",
    "            time_len = len(self.count)\n",
    "            x_lim = time_len - 60\n",
    "            self.ax1.set_xlim(x_lim, (60 + x_lim))\n",
    "            self.ax2.set_xlim(x_lim, (60 + x_lim))\n",
    "            \n",
    "        self.line1.set_data(self.count, self.vel1)\n",
    "        self.line2.set_data(self.count, self.vel2)\n",
    "        self.line3.set_data(self.count, self.vel3)\n",
    "        self.line4.set_data(self.count, self.vel4)\n",
    "        return self.line1, self.line2, self.line3, self.line4\n"
   ]
  },
  {
   "cell_type": "code",
   "execution_count": 17,
   "id": "impressed-wallet",
   "metadata": {
    "ExecuteTime": {
     "end_time": "2021-07-08T15:45:09.410224Z",
     "start_time": "2021-07-08T15:45:08.875795Z"
    },
    "scrolled": true
   },
   "outputs": [
    {
     "data": {
      "application/vnd.jupyter.widget-view+json": {
       "model_id": "7bf02181497944309adffaeea19300c8",
       "version_major": 2,
       "version_minor": 0
      },
      "text/plain": [
       "Canvas(toolbar=Toolbar(toolitems=[('Home', 'Reset original view', 'home', 'home'), ('Back', 'Back to previous …"
      ]
     },
     "metadata": {},
     "output_type": "display_data"
    },
    {
     "data": {
      "application/vnd.jupyter.widget-view+json": {
       "model_id": "46a517f2d8804fd29e7e693cfcef8447",
       "version_major": 2,
       "version_minor": 0
      },
      "text/plain": [
       "VBox(children=(FloatSlider(value=1.0, description='Linear Velocity: ', max=2.0), FloatSlider(value=1.0, descri…"
      ]
     },
     "metadata": {},
     "output_type": "display_data"
    }
   ],
   "source": [
    "def start_simulation(a):\n",
    "    ui_client(\"start\")\n",
    "    start_button.button_style = 'success'\n",
    "    stop_button.button_style = ''\n",
    "    \n",
    "def stop_simulation(b):\n",
    "    ui_client(\"stop\")\n",
    "    start_button.button_style = ''\n",
    "    stop_button.button_style = 'danger'  \n",
    "    \n",
    "def move_forward(a):\n",
    "    if (rospy.has_param('/linear_velocity')):\n",
    "        lv_multiplier = rospy.get_param('/linear_velocity')\n",
    "    else:\n",
    "        lv_multiplier = 1\n",
    "    vel = Twist()\n",
    "    vel.linear.x = lv_multiplier*0.5\n",
    "    pub.publish(vel)\n",
    "    up_button.button_style = 'info'\n",
    "    down_button.button_style = ''\n",
    "    left_button.button_style = ''\n",
    "    right_button.button_style = ''\n",
    "    stop.button_style = ''\n",
    "    \n",
    "    \n",
    "def move_backward(a):\n",
    "    if (rospy.has_param('/linear_velocity')):\n",
    "        lv_multiplier = rospy.get_param('/linear_velocity')\n",
    "    else:\n",
    "        lv_multiplier = 1\n",
    "    vel = Twist()\n",
    "    vel.linear.x = lv_multiplier*(-0.5)\n",
    "    pub.publish(vel)\n",
    "    up_button.button_style = ''\n",
    "    down_button.button_style = 'info'\n",
    "    left_button.button_style = ''\n",
    "    right_button.button_style = ''\n",
    "    stop.button_style = ''\n",
    "  \n",
    "\n",
    "def turn_left(a):\n",
    "    if (rospy.has_param('/angular_velocity')):\n",
    "        av_multiplier = rospy.get_param('/angular_velocity')\n",
    "    else:\n",
    "        av_multiplier = 1\n",
    "    vel = Twist()\n",
    "    vel.angular.z = av_multiplier*(-0.5)\n",
    "    pub.publish(vel)\n",
    "    up_button.button_style = ''\n",
    "    down_button.button_style = ''\n",
    "    left_button.button_style = 'info'\n",
    "    right_button.button_style = ''\n",
    "    stop.button_style = ''\n",
    "   \n",
    "\n",
    "def turn_right(a):\n",
    "    if (rospy.has_param('/angular_velocity')):\n",
    "        av_multiplier = rospy.get_param('/angular_velocity')\n",
    "    else:\n",
    "        av_multiplier = 1\n",
    "    vel = Twist()\n",
    "    vel.angular.z = av_multiplier*(0.5)\n",
    "    pub.publish(vel)\n",
    "    up_button.button_style = ''\n",
    "    down_button.button_style = ''\n",
    "    left_button.button_style = ''\n",
    "    right_button.button_style = 'info'\n",
    "    stop.button_style = ''\n",
    "\n",
    "    \n",
    "def stop_movement(a):\n",
    "    vel = Twist()\n",
    "    vel.linear.x = 0.0\n",
    "    vel.angular.z = 0.0\n",
    "    pub.publish(vel)\n",
    "    up_button.button_style = ''\n",
    "    down_button.button_style = ''\n",
    "    left_button.button_style = ''\n",
    "    right_button.button_style = ''\n",
    "    stop.button_style = 'danger'\n",
    "    \n",
    "    \n",
    "def on_value_change(change):\n",
    "    x = change['new']\n",
    "    rospy.set_param('/linear_velocity', x)\n",
    "    \n",
    "    \n",
    "def on_valueang_change(change):\n",
    "    z = change['new']\n",
    "    rospy.set_param('/angular_velocity', z)\n",
    "\n",
    "\n",
    "def button_event():\n",
    "    start_button.on_click(start_simulation)\n",
    "    stop_button.on_click(stop_simulation)\n",
    "    up_button.on_click(move_forward)\n",
    "    down_button.on_click(move_backward)\n",
    "    left_button.on_click(turn_left)\n",
    "    right_button.on_click(turn_right)\n",
    "    stop.on_click(stop_movement)\n",
    "    l_velSlider.observe(on_value_change, names='value')\n",
    "    a_velSlider.observe(on_valueang_change, names='value')\n",
    "    \n",
    "def main():\n",
    "    rospy.init_node('user_interface')\n",
    "    button_event()\n",
    "\n",
    "\n",
    "if __name__ == '__main__':\n",
    "    rospy.wait_for_service('/user_interface')\n",
    "    try:\n",
    "        ui_client = rospy.ServiceProxy('/user_interface', Command)\n",
    "    except rospy.ServiceException as e:\n",
    "        print(f'Service call failed: {e}')\n",
    "    main()\n",
    "    vis = Visualiser()\n",
    "    \n",
    "    pub = rospy.Publisher('/cmd_vel', Twist, queue_size=10)\n",
    "    sub = rospy.Subscriber('/odom', Odometry, vis.odom_callback)\n",
    "    \n",
    "    ani = FuncAnimation(vis.fig, vis.update_plot, init_func=vis.plot_init, blit=True)\n",
    "    \n",
    "    \n",
    "    clear_path = Btn(vis.btax, 'Clear Path')\n",
    "    clear_path.on_clicked(vis.clear_path)\n",
    "    plt.show(block=True)\n",
    "    \n",
    "VBox([l_velSlider, a_velSlider])"
   ]
  },
  {
   "cell_type": "code",
   "execution_count": 18,
   "id": "conscious-savage",
   "metadata": {
    "ExecuteTime": {
     "end_time": "2021-07-08T15:45:09.501003Z",
     "start_time": "2021-07-08T15:45:09.414176Z"
    },
    "scrolled": true
   },
   "outputs": [
    {
     "data": {
      "application/vnd.jupyter.widget-view+json": {
       "model_id": "61045a41cc814194b00101cdef0e4000",
       "version_major": 2,
       "version_minor": 0
      },
      "text/plain": [
       "HBox(children=(Button(button_style='success', description='Start', icon='play', layout=Layout(height='80px', w…"
      ]
     },
     "metadata": {},
     "output_type": "display_data"
    }
   ],
   "source": [
    "HBox([start_button, stop_button])"
   ]
  },
  {
   "cell_type": "code",
   "execution_count": 19,
   "id": "tracked-place",
   "metadata": {
    "ExecuteTime": {
     "end_time": "2021-07-08T15:45:09.655373Z",
     "start_time": "2021-07-08T15:45:09.599964Z"
    },
    "scrolled": true
   },
   "outputs": [
    {
     "data": {
      "application/vnd.jupyter.widget-view+json": {
       "model_id": "c0f467b3075f4b25988f8263bcc65b1c",
       "version_major": 2,
       "version_minor": 0
      },
      "text/plain": [
       "GridBox(children=(Button(icon='arrow-up', layout=Layout(grid_area='up', height='50px', width='auto'), style=Bu…"
      ]
     },
     "metadata": {},
     "output_type": "display_data"
    }
   ],
   "source": [
    "display(control_pad)"
   ]
  },
  {
   "cell_type": "code",
   "execution_count": 20,
   "id": "790e4b87",
   "metadata": {
    "ExecuteTime": {
     "end_time": "2021-07-08T15:45:10.706485Z",
     "start_time": "2021-07-08T15:45:09.670904Z"
    }
   },
   "outputs": [
    {
     "data": {
      "application/vnd.jupyter.widget-view+json": {
       "model_id": "d91b31ef17494301a45fca9c0876a883",
       "version_major": 2,
       "version_minor": 0
      },
      "text/plain": [
       "Canvas(toolbar=Toolbar(toolitems=[('Home', 'Reset original view', 'home', 'home'), ('Back', 'Back to previous …"
      ]
     },
     "metadata": {},
     "output_type": "display_data"
    }
   ],
   "source": [
    "vel_analysis = VelocityAnalysis()\n",
    "    \n",
    "sub2 = rospy.Subscriber('/cmd_vel', Twist, vel_analysis.cmd_callback)\n",
    "sub3 = rospy.Subscriber('/odom', Odometry, vel_analysis.odom_callback)\n",
    "\n",
    "anim = FuncAnimation(vel_analysis.fig, vel_analysis.update_plot, init_func=vel_analysis.plot_init, blit=True, interval=1000)\n",
    "   \n",
    "plt.show(block=True)"
   ]
  },
  {
   "cell_type": "code",
   "execution_count": 21,
   "id": "broadband-rating",
   "metadata": {
    "ExecuteTime": {
     "end_time": "2021-07-08T15:45:11.377143Z",
     "start_time": "2021-07-08T15:45:10.715940Z"
    },
    "scrolled": false
   },
   "outputs": [
    {
     "data": {
      "application/vnd.jupyter.widget-view+json": {
       "model_id": "b2437874eeda4f5b8385de37cae45d3b",
       "version_major": 2,
       "version_minor": 0
      },
      "text/plain": [
       "Canvas(toolbar=Toolbar(toolitems=[('Home', 'Reset original view', 'home', 'home'), ('Back', 'Back to previous …"
      ]
     },
     "metadata": {},
     "output_type": "display_data"
    }
   ],
   "source": [
    "anaplot = AnalysisPlots()\n",
    "anaplot.init_barplot()\n",
    "anaplot.init_histplot()\n",
    "\n",
    "bnext = Btn(anaplot.axbar, 'Reload BarPlot')\n",
    "anext = Btn(anaplot.axhist, 'Reload HistPlot')\n",
    "bnext.on_clicked(anaplot.reload_bar)\n",
    "anext.on_clicked(anaplot.reload_hist)\n",
    "plt.show()"
   ]
  },
  {
   "cell_type": "code",
   "execution_count": null,
   "id": "5bb76685",
   "metadata": {},
   "outputs": [],
   "source": []
  }
 ],
 "metadata": {
  "hide_input": false,
  "interpreter": {
   "hash": "0075869c5e1e9f1a67625e8b0e2de3952e5de208efa237d1ce1a4f466ca5e275"
  },
  "kernelspec": {
   "display_name": "Python 3 (ipykernel)",
   "language": "python",
   "name": "python3"
  },
  "language_info": {
   "codemirror_mode": {
    "name": "ipython",
    "version": 3
   },
   "file_extension": ".py",
   "mimetype": "text/x-python",
   "name": "python",
   "nbconvert_exporter": "python",
   "pygments_lexer": "ipython3",
   "version": "3.8.5"
  },
  "toc": {
   "base_numbering": 1,
   "nav_menu": {},
   "number_sections": true,
   "sideBar": true,
   "skip_h1_title": false,
   "title_cell": "Table of Contents",
   "title_sidebar": "Contents",
   "toc_cell": false,
   "toc_position": {},
   "toc_section_display": true,
   "toc_window_display": false
  },
  "varInspector": {
   "cols": {
    "lenName": 16,
    "lenType": 16,
    "lenVar": 40
   },
   "kernels_config": {
    "python": {
     "delete_cmd_postfix": "",
     "delete_cmd_prefix": "del ",
     "library": "var_list.py",
     "varRefreshCmd": "print(var_dic_list())"
    },
    "r": {
     "delete_cmd_postfix": ") ",
     "delete_cmd_prefix": "rm(",
     "library": "var_list.r",
     "varRefreshCmd": "cat(var_dic_list()) "
    }
   },
   "types_to_exclude": [
    "module",
    "function",
    "builtin_function_or_method",
    "instance",
    "_Feature"
   ],
   "window_display": false
  }
 },
 "nbformat": 4,
 "nbformat_minor": 5
}
