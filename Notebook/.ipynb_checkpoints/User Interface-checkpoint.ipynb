{
 "cells": [
  {
   "cell_type": "markdown",
   "id": "adjacent-stephen",
   "metadata": {
    "hide_input": true
   },
   "source": [
    "# Reasearch Track II Assignment 2\n",
    "\n",
    "---\n",
    "\n",
    "**Author's Name: Omotoye Shamsudeen Adekoya** <br>\n",
    "**Student ID: 5066348**\n",
    "\n",
    "---\n",
    "\n",
    "## NoteBook Description\n",
    "\n",
    "This Notebook has two functions; it serves as a user interface for the control of non-holonomic robot in a 3D environment and it also show a graphical feedback of the robot state and behaviour. "
   ]
  },
  {
   "cell_type": "code",
   "execution_count": 1,
   "id": "emerging-steam",
   "metadata": {
    "ExecuteTime": {
     "end_time": "2021-07-07T02:36:42.774175Z",
     "start_time": "2021-07-07T02:36:41.037932Z"
    }
   },
   "outputs": [],
   "source": [
    "import ipywidgets as widgets\n",
    "from ipywidgets import Button, Layout, HBox, VBox\n",
    "from ipywidgets import Button, GridBox, Layout, ButtonStyle\n",
    "%matplotlib widget\n"
   ]
  },
  {
   "cell_type": "markdown",
   "id": "consolidated-contemporary",
   "metadata": {},
   "source": [
    "## Robot Control"
   ]
  },
  {
   "cell_type": "code",
   "execution_count": 23,
   "id": "amazing-currency",
   "metadata": {
    "ExecuteTime": {
     "end_time": "2021-07-07T02:53:47.965725Z",
     "start_time": "2021-07-07T02:53:47.743375Z"
    }
   },
   "outputs": [],
   "source": [
    "import matplotlib.pyplot as plt\n",
    "import rospy\n",
    "import tf\n",
    "from nav_msgs.msg import Odometry\n",
    "import numpy as np\n",
    "from matplotlib.animation import FuncAnimation\n",
    "from tf.transformations import euler_from_quaternion\n",
    "from math import *\n",
    "from matplotlib.widgets import Button as Btn\n",
    "from matplotlib.lines import Line2D \n",
    "from matplotlib.patches import Arrow, Circle\n",
    "from tf.transformations import euler_from_quaternion\n",
    "from math import sin, cos\n",
    "\n",
    "\n",
    "class Visualiser:\n",
    "    def __init__(self):\n",
    "        self.fig = plt.figure(figsize=(8,6))\n",
    "        self.ax = self.fig.add_axes([0.48,0.17,0.5,0.67])\n",
    "        self.info_ax = self.fig.add_axes([0.05,0.05, 0.35,0.9])\n",
    "        self.info_ax.grid(False)\n",
    "        self.info_ax.set_facecolor('#faebd7')\n",
    "#         self.info_ax.tick_params(left = False, right = False , labelleft = False ,\n",
    "#                 labelbottom = False, bottom = False)\n",
    "        self.btax = self.fig.add_axes([0.8, 0.02, 0.2, 0.05])\n",
    "        self.line = Line2D([],[], color='g', linestyle='dashed', marker='.',\n",
    "     markerfacecolor='blue')\n",
    "        self.ax.add_line(self.line)\n",
    "        self.arrow = Arrow(0, 0, 0, 0,)\n",
    "        self.ax.add_patch(self.arrow)\n",
    "        self.circle = Circle((0, 0), radius=0)\n",
    "        self.ax.add_patch(self.circle)\n",
    "        self.target = Circle((0, 0), radius=0)\n",
    "        self.ax.add_patch(self.target)\n",
    "        self.ax.set_title('Robot Position and Goal Visualizer')\n",
    "        self.ax.set_xlabel('X Coordinate')\n",
    "        self.ax.set_ylabel('Y Coordinate')\n",
    "        self.x_data, self.y_data = [], []\n",
    "        self.pose_data = 'X: 0.0\\n\\nY: 0.0\\n\\nOrientation: 0.0'\n",
    "        self.vel_data = 'Linear Velocity: 0.0\\n\\nAngular Velocity: 0.0'\n",
    "        self.goal_data = 'Target:\\n    x: 0.0\\n    y: 0.0\\n\\nDistance to Target: 0.0'\n",
    "        self.info_ax.text(0.1, 0.92, 'POSITION', style='oblique', fontsize=16,\n",
    "        bbox={'facecolor': 'red','alpha': 0.5, 'pad': 10})\n",
    "        self.info_ax.text(0.1, 0.7, self.pose_data, style='normal', fontsize=12,\n",
    "        bbox={'facecolor': 'red','alpha': 0,'pad': 10})\n",
    "        self.info_ax.text(0.1, 0.60, 'VELOCITIES', style='oblique', fontsize=16,\n",
    "        bbox={'facecolor': 'red','alpha': 0.5, 'pad': 10})\n",
    "        self.info_ax.text(0.1, 0.25, 'GOAL INFO', style='oblique', fontsize=16,\n",
    "        bbox={'facecolor': 'red','alpha': 0.5, 'pad': 10})\n",
    "        self.info_ax.text(0.1, 0.45, self.vel_data, style='normal', fontsize=12,\n",
    "        bbox={'facecolor': 'red','alpha': 0,'pad': 10})\n",
    "        self.info_ax.text(0.1, 0.02, self.goal_data, style='normal', fontsize=12,\n",
    "        bbox={'facecolor': 'red','alpha': 0,'pad': 10})\n",
    "        \n",
    "        \n",
    "        \n",
    "    def plot_init(self):\n",
    "        self.ax.set_xlim(-6, 6)\n",
    "        self.ax.set_ylim(-6, 6)\n",
    "        return self.line\n",
    "    \n",
    "    def odom_callback(self, msg):\n",
    "        self.y_data.append(msg.pose.pose.position.y)\n",
    "        self.x_data.append(msg.pose.pose.position.x)\n",
    "        rotation = msg.pose.pose.orientation\n",
    "        quaternion = [rotation.x, rotation.y, rotation.z, rotation.w]\n",
    "        # Using tuple unpacking to get the roll, pitch and yaw values for the euler tuple\n",
    "        (roll, pitch, self.yaw) = euler_from_quaternion(quaternion)\n",
    "        \n",
    "    def update_plot(self, frame): \n",
    "        self.line.set_data(self.x_data, self.y_data)\n",
    "        \n",
    "        if len(self.x_data) != 0:\n",
    "            self.arrow.remove()\n",
    "            self.circle.remove()\n",
    "            x = self.x_data[-1]\n",
    "            y = self.y_data[-1]\n",
    "            self.arrow = Arrow(x, y, (cos(self.yaw)), (sin(self.yaw)))\n",
    "            self.ax.add_patch(self.arrow)\n",
    "            self.circle = Circle((x, y), radius=0.4)\n",
    "            self.ax.add_patch(self.circle)\n",
    "        if rospy.has_param('/target_point'):\n",
    "            target_point = rospy.get_param('/target_point')\n",
    "            self.target.remove()\n",
    "            self.target = Circle((target_point[0], target_point[1]), radius=0.2, color='r')\n",
    "            self.ax.add_patch(self.target)\n",
    "        return self.line\n",
    "    \n",
    "    def clear_path(self, event):\n",
    "        self.x_data = []\n",
    "        self.y_data = []\n",
    "        \n",
    "\n",
    "class AnalysisPlots:\n",
    "    def __init__(self):\n",
    "        self.reached_target = 0\n",
    "        self.canceled_target = 0\n",
    "        self.time_to_target = []\n",
    "        self.fig = plt.figure(figsize=(8,8))\n",
    "    \n",
    "    def get_analysis_data(self):\n",
    "        if (rospy.has_param('/reached_target')):\n",
    "            self.reached_target = rospy.get_param('/reached_target')\n",
    "        if (rospy.has_param('/canceled_target')):\n",
    "            self.canceled_target = rospy.get_param('/canceled_target')\n",
    "        if (rospy.has_param('/target_time')):\n",
    "            self.time_to_target = rospy.get_param('/target_time')\n",
    "            \n",
    "    def init_barplot(self):\n",
    "        self.axes_2 = self.fig.add_axes([0.1, 0.1, 0.7, 0.1])\n",
    "        self.axbar = self.fig.add_axes([0.7, 0, 0.15, 0.05])\n",
    "        self.axes_2.set_title('Number of Canceled and Reached Targets')\n",
    "        self.get_analysis_data()\n",
    "        self.axes_2.barh(('Reached\\nTarget', 'Canceled\\nTarget'),(self.reached_target, self.canceled_target),color=[ 'green','red'])\n",
    "        \n",
    "        \n",
    "    def init_histplot(self):\n",
    "        self.axes_1 = self.fig.add_axes([0.1, 0.4, 0.7, 0.5])\n",
    "        self.axhist = self.fig.add_axes([0.7, 0.3, 0.15, 0.05])\n",
    "        self.axes_1.set_title('Time to Reach Targets')\n",
    "        self.axes_1.set_xlabel('Time to reach target')\n",
    "        self.axes_1.set_ylabel('Frequency')\n",
    "        self.get_analysis_data()\n",
    "        self.axes_1.hist(self.time_to_target, stacked=True)\n",
    "        \n",
    "\n",
    "    def reload_bar(self, event):\n",
    "        self.axes_2.cla()\n",
    "        self.init_barplot()\n",
    "    \n",
    "    \n",
    "    def reload_hist(self, event):\n",
    "        self.axes_1.cla()\n",
    "        self.init_histplot()\n",
    "        \n",
    "\n"
   ]
  },
  {
   "cell_type": "code",
   "execution_count": 24,
   "id": "impressed-wallet",
   "metadata": {
    "ExecuteTime": {
     "end_time": "2021-07-07T02:53:48.877046Z",
     "start_time": "2021-07-07T02:53:48.277661Z"
    },
    "scrolled": true
   },
   "outputs": [
    {
     "data": {
      "application/vnd.jupyter.widget-view+json": {
       "model_id": "0d59b68d3cd746d5b7ad2f829cb77052",
       "version_major": 2,
       "version_minor": 0
      },
      "text/plain": [
       "Canvas(toolbar=Toolbar(toolitems=[('Home', 'Reset original view', 'home', 'home'), ('Back', 'Back to previous …"
      ]
     },
     "metadata": {},
     "output_type": "display_data"
    },
    {
     "data": {
      "application/vnd.jupyter.widget-view+json": {
       "model_id": "64d9d919fb8b48599687f11d8d00cd4e",
       "version_major": 2,
       "version_minor": 0
      },
      "text/plain": [
       "VBox(children=(FloatSlider(value=1.0, description='Linear Velocity: ', max=2.0), FloatSlider(value=1.0, descri…"
      ]
     },
     "metadata": {},
     "output_type": "display_data"
    }
   ],
   "source": [
    "import rospy\n",
    "import time\n",
    "from rt2_assignment2.srv import Command, RandomPosition\n",
    "from geometry_msgs.msg import Twist\n",
    "from nav_msgs.msg import Odometry \n",
    "\n",
    "\n",
    "from all_buttons import *\n",
    "\n",
    "from ipywidgets import Button, Layout, HBox, VBox\n",
    "plt.style.use('ggplot')\n",
    "\n",
    "def start_simulation(a):\n",
    "    ui_client(\"start\")\n",
    "    start_button.button_style = 'success'\n",
    "    stop_button.button_style = ''\n",
    "    \n",
    "def stop_simulation(b):\n",
    "    ui_client(\"stop\")\n",
    "    start_button.button_style = ''\n",
    "    stop_button.button_style = 'danger'  \n",
    "    \n",
    "def move_forward(a):\n",
    "    if (rospy.has_param('/linear_velocity')):\n",
    "        lv_multiplier = rospy.get_param('/linear_velocity')\n",
    "    else:\n",
    "        lv_multiplier = 1\n",
    "    vel = Twist()\n",
    "    vel.linear.x = lv_multiplier*0.5\n",
    "    pub.publish(vel)\n",
    "    up_button.button_style = 'info'\n",
    "    down_button.button_style = ''\n",
    "    left_button.button_style = ''\n",
    "    right_button.button_style = ''\n",
    "    stop.button_style = ''\n",
    "    \n",
    "    \n",
    "def move_backward(a):\n",
    "    if (rospy.has_param('/linear_velocity')):\n",
    "        lv_multiplier = rospy.get_param('/linear_velocity')\n",
    "    else:\n",
    "        lv_multiplier = 1\n",
    "    vel = Twist()\n",
    "    vel.linear.x = lv_multiplier*(-0.5)\n",
    "    pub.publish(vel)\n",
    "    up_button.button_style = ''\n",
    "    down_button.button_style = 'info'\n",
    "    left_button.button_style = ''\n",
    "    right_button.button_style = ''\n",
    "    stop.button_style = ''\n",
    "  \n",
    "\n",
    "def turn_left(a):\n",
    "    if (rospy.has_param('/angular_velocity')):\n",
    "        av_multiplier = rospy.get_param('/angular_velocity')\n",
    "    else:\n",
    "        av_multiplier = 1\n",
    "    vel = Twist()\n",
    "    vel.angular.z = av_multiplier*(-0.5)\n",
    "    pub.publish(vel)\n",
    "    up_button.button_style = ''\n",
    "    down_button.button_style = ''\n",
    "    left_button.button_style = 'info'\n",
    "    right_button.button_style = ''\n",
    "    stop.button_style = ''\n",
    "   \n",
    "\n",
    "def turn_right(a):\n",
    "    if (rospy.has_param('/angular_velocity')):\n",
    "        av_multiplier = rospy.get_param('/angular_velocity')\n",
    "    else:\n",
    "        av_multiplier = 1\n",
    "    vel = Twist()\n",
    "    vel.angular.z = av_multiplier*(0.5)\n",
    "    pub.publish(vel)\n",
    "    up_button.button_style = ''\n",
    "    down_button.button_style = ''\n",
    "    left_button.button_style = ''\n",
    "    right_button.button_style = 'info'\n",
    "    stop.button_style = ''\n",
    "\n",
    "    \n",
    "def stop_movement(a):\n",
    "    vel = Twist()\n",
    "    vel.linear.x = 0.0\n",
    "    vel.angular.z = 0.0\n",
    "    pub.publish(vel)\n",
    "    up_button.button_style = ''\n",
    "    down_button.button_style = ''\n",
    "    left_button.button_style = ''\n",
    "    right_button.button_style = ''\n",
    "    stop.button_style = 'danger'\n",
    "    \n",
    "    \n",
    "def on_value_change(change):\n",
    "    x = change['new']\n",
    "    rospy.set_param('/linear_velocity', x)\n",
    "    \n",
    "    \n",
    "def on_valueang_change(change):\n",
    "    z = change['new']\n",
    "    rospy.set_param('/angular_velocity', z)\n",
    "\n",
    "\n",
    "def button_event():\n",
    "    start_button.on_click(start_simulation)\n",
    "    stop_button.on_click(stop_simulation)\n",
    "    up_button.on_click(move_forward)\n",
    "    down_button.on_click(move_backward)\n",
    "    left_button.on_click(turn_left)\n",
    "    right_button.on_click(turn_right)\n",
    "    stop.on_click(stop_movement)\n",
    "    l_velSlider.observe(on_value_change, names='value')\n",
    "    a_velSlider.observe(on_valueang_change, names='value')\n",
    "    \n",
    "def main():\n",
    "    rospy.init_node('user_interface')\n",
    "    button_event()\n",
    "\n",
    "\n",
    "if __name__ == '__main__':\n",
    "    rospy.wait_for_service('/user_interface')\n",
    "    try:\n",
    "        ui_client = rospy.ServiceProxy('/user_interface', Command)\n",
    "    except rospy.ServiceException as e:\n",
    "        print(f'Service call failed: {e}')\n",
    "    main()\n",
    "    vis = Visualiser()\n",
    "    pub = rospy.Publisher('/cmd_vel', Twist, queue_size=10)\n",
    "    sub = rospy.Subscriber('/odom', Odometry, vis.odom_callback)\n",
    "\n",
    "    sub = rospy.Subscriber('/odom', Odometry, vis.odom_callback)\n",
    "    ani = FuncAnimation(vis.fig, vis.update_plot, init_func=vis.plot_init)\n",
    "    \n",
    "    clear_path = Btn(vis.btax, 'Clear Path')\n",
    "    clear_path.on_clicked(vis.clear_path)\n",
    "    plt.show(block=True)\n",
    "    \n",
    "VBox([l_velSlider, a_velSlider])"
   ]
  },
  {
   "cell_type": "code",
   "execution_count": 4,
   "id": "conscious-savage",
   "metadata": {
    "ExecuteTime": {
     "end_time": "2021-07-07T02:36:45.728908Z",
     "start_time": "2021-07-07T02:36:45.629578Z"
    },
    "scrolled": true
   },
   "outputs": [
    {
     "data": {
      "application/vnd.jupyter.widget-view+json": {
       "model_id": "d08dae9a5f794870b5c46fbc6dfc14a1",
       "version_major": 2,
       "version_minor": 0
      },
      "text/plain": [
       "HBox(children=(Button(description='Start', icon='play', layout=Layout(height='80px', width='50%'), style=Butto…"
      ]
     },
     "metadata": {},
     "output_type": "display_data"
    }
   ],
   "source": [
    "HBox([start_button, stop_button])"
   ]
  },
  {
   "cell_type": "code",
   "execution_count": 5,
   "id": "tracked-place",
   "metadata": {
    "ExecuteTime": {
     "end_time": "2021-07-07T02:36:46.000386Z",
     "start_time": "2021-07-07T02:36:45.746517Z"
    },
    "scrolled": true
   },
   "outputs": [
    {
     "data": {
      "application/vnd.jupyter.widget-view+json": {
       "model_id": "736c6de239aa4058bf8122ec9aef9c7d",
       "version_major": 2,
       "version_minor": 0
      },
      "text/plain": [
       "GridBox(children=(Button(icon='arrow-up', layout=Layout(grid_area='up', height='50px', width='auto'), style=Bu…"
      ]
     },
     "metadata": {},
     "output_type": "display_data"
    }
   ],
   "source": [
    "display(control_pad)"
   ]
  },
  {
   "cell_type": "code",
   "execution_count": 6,
   "id": "broadband-rating",
   "metadata": {
    "ExecuteTime": {
     "end_time": "2021-07-07T02:36:46.635371Z",
     "start_time": "2021-07-07T02:36:46.003931Z"
    },
    "scrolled": false
   },
   "outputs": [
    {
     "data": {
      "application/vnd.jupyter.widget-view+json": {
       "model_id": "2713cd9cfc2a4e6c8683e60a2aff272e",
       "version_major": 2,
       "version_minor": 0
      },
      "text/plain": [
       "Canvas(toolbar=Toolbar(toolitems=[('Home', 'Reset original view', 'home', 'home'), ('Back', 'Back to previous …"
      ]
     },
     "metadata": {},
     "output_type": "display_data"
    }
   ],
   "source": [
    "anaplot = AnalysisPlots()\n",
    "anaplot.init_barplot()\n",
    "anaplot.init_histplot()\n",
    "\n",
    "bnext = Btn(anaplot.axbar, 'Reload BarPlot')\n",
    "anext = Btn(anaplot.axhist, 'Reload HistPlot')\n",
    "bnext.on_clicked(anaplot.reload_bar)\n",
    "anext.on_clicked(anaplot.reload_hist)\n",
    "plt.show()"
   ]
  }
 ],
 "metadata": {
  "hide_input": false,
  "interpreter": {
   "hash": "0075869c5e1e9f1a67625e8b0e2de3952e5de208efa237d1ce1a4f466ca5e275"
  },
  "kernelspec": {
   "display_name": "Python 3 (ipykernel)",
   "language": "python",
   "name": "python3"
  },
  "language_info": {
   "codemirror_mode": {
    "name": "ipython",
    "version": 3
   },
   "file_extension": ".py",
   "mimetype": "text/x-python",
   "name": "python",
   "nbconvert_exporter": "python",
   "pygments_lexer": "ipython3",
   "version": "3.8.5"
  },
  "toc": {
   "base_numbering": 1,
   "nav_menu": {},
   "number_sections": true,
   "sideBar": true,
   "skip_h1_title": false,
   "title_cell": "Table of Contents",
   "title_sidebar": "Contents",
   "toc_cell": false,
   "toc_position": {},
   "toc_section_display": true,
   "toc_window_display": false
  },
  "varInspector": {
   "cols": {
    "lenName": 16,
    "lenType": 16,
    "lenVar": 40
   },
   "kernels_config": {
    "python": {
     "delete_cmd_postfix": "",
     "delete_cmd_prefix": "del ",
     "library": "var_list.py",
     "varRefreshCmd": "print(var_dic_list())"
    },
    "r": {
     "delete_cmd_postfix": ") ",
     "delete_cmd_prefix": "rm(",
     "library": "var_list.r",
     "varRefreshCmd": "cat(var_dic_list()) "
    }
   },
   "types_to_exclude": [
    "module",
    "function",
    "builtin_function_or_method",
    "instance",
    "_Feature"
   ],
   "window_display": false
  }
 },
 "nbformat": 4,
 "nbformat_minor": 5
}
