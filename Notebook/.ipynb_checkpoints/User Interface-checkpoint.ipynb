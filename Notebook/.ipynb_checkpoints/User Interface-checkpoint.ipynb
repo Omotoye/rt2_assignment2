{
 "cells": [
  {
   "cell_type": "markdown",
   "id": "adjacent-stephen",
   "metadata": {
    "hide_input": true
   },
   "source": [
    "# Reasearch Track II Assignment 2\n",
    "\n",
    "---\n",
    "\n",
    "**Author's Name: Omotoye Shamsudeen Adekoya** <br>\n",
    "**Student ID: 5066348**\n",
    "\n",
    "---\n",
    "\n",
    "## NoteBook Description\n",
    "\n",
    "This Notebook has two functions; it serves as a user interface for the control of non-holonomic robot in a 3D environment and it also show a graphical feedback of the robot state and behaviour. "
   ]
  },
  {
   "cell_type": "code",
   "execution_count": 1,
   "id": "emerging-steam",
   "metadata": {
    "ExecuteTime": {
     "end_time": "2021-07-03T08:21:30.654061Z",
     "start_time": "2021-07-03T08:21:29.883094Z"
    }
   },
   "outputs": [],
   "source": [
    "import ipywidgets as widgets\n",
    "from ipywidgets import Button, Layout, HBox, VBox\n",
    "from ipywidgets import Button, GridBox, Layout, ButtonStyle\n",
    "%matplotlib widget\n"
   ]
  },
  {
   "cell_type": "markdown",
   "id": "consolidated-contemporary",
   "metadata": {},
   "source": [
    "## Robot Control"
   ]
  },
  {
   "cell_type": "code",
   "execution_count": 2,
   "id": "amazing-currency",
   "metadata": {
    "ExecuteTime": {
     "end_time": "2021-07-03T08:21:31.182097Z",
     "start_time": "2021-07-03T08:21:30.656523Z"
    }
   },
   "outputs": [],
   "source": [
    "import matplotlib.pyplot as plt\n",
    "import rospy\n",
    "import tf\n",
    "from nav_msgs.msg import Odometry\n",
    "import numpy as np\n",
    "from matplotlib.animation import FuncAnimation\n",
    "from tf.transformations import euler_from_quaternion\n",
    "from math import *\n",
    "\n",
    "class Visualiser:\n",
    "    def __init__(self):\n",
    "        self.fig, self.ax = plt.subplots()\n",
    "        self.ln, = plt.plot([], [], 'ro')\n",
    "        self.x_data, self.y_data = [] , []\n",
    "\n",
    "    def plot_init(self):\n",
    "        self.ax.set_xlim(-5, 5)\n",
    "        self.ax.set_ylim(-5, 5)\n",
    "        return self.ln\n",
    "    def odom_callback(self, msg):\n",
    "        self.y_data.append(msg.pose.pose.position.y)\n",
    "        self.x_data.append(msg.pose.pose.position.x)\n",
    "\n",
    "    def update_plot(self, frame):\n",
    "        self.ln.set_data(self.x_data, self.y_data)\n",
    "        return self.ln\n",
    "    "
   ]
  },
  {
   "cell_type": "code",
   "execution_count": 3,
   "id": "impressed-wallet",
   "metadata": {
    "ExecuteTime": {
     "end_time": "2021-07-03T08:21:31.894173Z",
     "start_time": "2021-07-03T08:21:31.188887Z"
    },
    "scrolled": true
   },
   "outputs": [
    {
     "data": {
      "application/vnd.jupyter.widget-view+json": {
       "model_id": "6ede786e807c4557ba63a41853e2e977",
       "version_major": 2,
       "version_minor": 0
      },
      "text/plain": [
       "Canvas(toolbar=Toolbar(toolitems=[('Home', 'Reset original view', 'home', 'home'), ('Back', 'Back to previous …"
      ]
     },
     "metadata": {},
     "output_type": "display_data"
    }
   ],
   "source": [
    "import rospy\n",
    "import time\n",
    "from rt2_assignment2.srv import Command, RandomPosition\n",
    "from geometry_msgs.msg import Twist\n",
    "from nav_msgs.msg import Odometry\n",
    "#from rt2_assignment2.msg import TargetPose \n",
    "\n",
    "\n",
    "from all_buttons import *\n",
    "\n",
    "from ipywidgets import Button, Layout, HBox, VBox\n",
    "plt.style.use('ggplot')\n",
    "\n",
    "def start_simulation(a):\n",
    "    ui_client(\"start\")\n",
    "    start_button.button_style = 'success'\n",
    "    stop_button.button_style = ''\n",
    "    \n",
    "def stop_simulation(b):\n",
    "    ui_client(\"stop\")\n",
    "    start_button.button_style = ''\n",
    "    stop_button.button_style = 'danger'\n",
    "    \n",
    "    \n",
    "def move_forward(a):\n",
    "    if (rospy.has_param('/linear_velocity')):\n",
    "        lv_multiplier = rospy.get_param('/linear_velocity')\n",
    "    else:\n",
    "        lv_multiplier = 1\n",
    "    vel = Twist()\n",
    "    vel.linear.x = lv_multiplier*0.5\n",
    "    pub.publish(vel)\n",
    "    up_button.button_style = 'info'\n",
    "    down_button.button_style = ''\n",
    "    left_button.button_style = ''\n",
    "    right_button.button_style = ''\n",
    "    stop.button_style = ''\n",
    "    \n",
    "def move_backward(a):\n",
    "    if (rospy.has_param('/linear_velocity')):\n",
    "        lv_multiplier = rospy.get_param('/linear_velocity')\n",
    "    else:\n",
    "        lv_multiplier = 1\n",
    "    vel = Twist()\n",
    "    vel.linear.x = lv_multiplier*(-0.5)\n",
    "    pub.publish(vel)\n",
    "    up_button.button_style = ''\n",
    "    down_button.button_style = 'info'\n",
    "    left_button.button_style = ''\n",
    "    right_button.button_style = ''\n",
    "    stop.button_style = ''\n",
    "    \n",
    "def turn_left(a):\n",
    "    if (rospy.has_param('/angular_velocity')):\n",
    "        av_multiplier = rospy.get_param('/angular_velocity')\n",
    "    else:\n",
    "        av_multiplier = 1\n",
    "    vel = Twist()\n",
    "    vel.angular.z = av_multiplier*(-0.5)\n",
    "    pub.publish(vel)\n",
    "    up_button.button_style = ''\n",
    "    down_button.button_style = ''\n",
    "    left_button.button_style = 'info'\n",
    "    right_button.button_style = ''\n",
    "    stop.button_style = ''\n",
    "    \n",
    "def turn_right(a):\n",
    "    if (rospy.has_param('/angular_velocity')):\n",
    "        av_multiplier = rospy.get_param('/angular_velocity')\n",
    "    else:\n",
    "        av_multiplier = 1\n",
    "    vel = Twist()\n",
    "    vel.angular.z = av_multiplier*(0.5)\n",
    "    pub.publish(vel)\n",
    "    up_button.button_style = ''\n",
    "    down_button.button_style = ''\n",
    "    left_button.button_style = ''\n",
    "    right_button.button_style = 'info'\n",
    "    stop.button_style = ''\n",
    "\n",
    "def stop_movement(a):\n",
    "    vel = Twist()\n",
    "    vel.linear.x = 0.0\n",
    "    vel.angular.z = 0.0\n",
    "    pub.publish(vel)\n",
    "    up_button.button_style = ''\n",
    "    down_button.button_style = ''\n",
    "    left_button.button_style = ''\n",
    "    right_button.button_style = ''\n",
    "    stop.button_style = 'danger'\n",
    "    \n",
    "def on_value_change(change):\n",
    "    x = change['new']\n",
    "    rospy.set_param('/linear_velocity', x)\n",
    "    \n",
    "def on_valueang_change(change):\n",
    "    z = change['new']\n",
    "    rospy.set_param('/angular_velocity', z)\n",
    "    \n",
    "\n",
    "def get_target():\n",
    "    rospy.wait_for_service('/ui_target')\n",
    "    try:\n",
    "        random_target = rospy.ServiceProxy('/ui_target', RandomPosition)\n",
    "        target = random_target(5.0,-5.0,5.0,-5.0)\n",
    "    except rospy.ServiceException as e:\n",
    "        print(f'Service call failed: {e}')\n",
    "    return target\n",
    "        \n",
    "def button_event():\n",
    "    start_button.on_click(start_simulation)\n",
    "    stop_button.on_click(stop_simulation)\n",
    "    up_button.on_click(move_forward)\n",
    "    down_button.on_click(move_backward)\n",
    "    left_button.on_click(turn_left)\n",
    "    right_button.on_click(turn_right)\n",
    "    stop.on_click(stop_movement)\n",
    "    a.observe(on_value_change, names='value')\n",
    "    b.observe(on_valueang_change, names='value')\n",
    "    \n",
    "def main():\n",
    "    rospy.init_node('user_interface')\n",
    "    button_event()\n",
    "\n",
    "if __name__ == '__main__':\n",
    "    rospy.wait_for_service('/user_interface')\n",
    "    try:\n",
    "        ui_client = rospy.ServiceProxy('/user_interface', Command)\n",
    "    except rospy.ServiceException as e:\n",
    "        print(f'Service call failed: {e}')\n",
    "    main()\n",
    "    vis = Visualiser()\n",
    "    pub = rospy.Publisher('/cmd_vel', Twist, queue_size=10)\n",
    "    sub = rospy.Subscriber('/odom', Odometry, vis.odom_callback)\n",
    "    ani = FuncAnimation(vis.fig, vis.update_plot, init_func=vis.plot_init)\n",
    "    plt.show(block=True)\n"
   ]
  },
  {
   "cell_type": "code",
   "execution_count": 4,
   "id": "conscious-savage",
   "metadata": {
    "ExecuteTime": {
     "end_time": "2021-07-03T08:21:31.978020Z",
     "start_time": "2021-07-03T08:21:31.923698Z"
    },
    "scrolled": true
   },
   "outputs": [
    {
     "data": {
      "application/vnd.jupyter.widget-view+json": {
       "model_id": "bf5ed79ceb2a4f01be3f2a988f81348b",
       "version_major": 2,
       "version_minor": 0
      },
      "text/plain": [
       "HBox(children=(Button(description='Start', icon='play', layout=Layout(height='80px', width='50%'), style=Butto…"
      ]
     },
     "metadata": {},
     "output_type": "display_data"
    }
   ],
   "source": [
    "HBox([start_button, stop_button])"
   ]
  },
  {
   "cell_type": "code",
   "execution_count": 5,
   "id": "desperate-knitting",
   "metadata": {
    "ExecuteTime": {
     "end_time": "2021-07-03T08:21:32.023586Z",
     "start_time": "2021-07-03T08:21:31.995861Z"
    },
    "scrolled": true
   },
   "outputs": [
    {
     "data": {
      "application/vnd.jupyter.widget-view+json": {
       "model_id": "5e6451e84d404b1bb28b38553b042efc",
       "version_major": 2,
       "version_minor": 0
      },
      "text/plain": [
       "VBox(children=(FloatSlider(value=1.0, description='Linear Velocity: ', max=2.0), FloatSlider(value=1.0, descri…"
      ]
     },
     "metadata": {},
     "output_type": "display_data"
    }
   ],
   "source": [
    "VBox([l_velSlider, a_velSlider])"
   ]
  },
  {
   "cell_type": "code",
   "execution_count": 9,
   "id": "tracked-place",
   "metadata": {
    "ExecuteTime": {
     "end_time": "2021-07-03T08:24:40.231293Z",
     "start_time": "2021-07-03T08:24:40.097262Z"
    },
    "scrolled": true
   },
   "outputs": [
    {
     "data": {
      "application/vnd.jupyter.widget-view+json": {
       "model_id": "d92e32b38dc64f75b7360d811412bbbd",
       "version_major": 2,
       "version_minor": 0
      },
      "text/plain": [
       "GridBox(children=(Button(icon='arrow-up', layout=Layout(grid_area='up', height='50px', width='auto'), style=Bu…"
      ]
     },
     "metadata": {},
     "output_type": "display_data"
    }
   ],
   "source": [
    "display(control_pad)"
   ]
  },
  {
   "cell_type": "code",
   "execution_count": 7,
   "id": "broadband-rating",
   "metadata": {
    "ExecuteTime": {
     "end_time": "2021-07-03T08:21:32.536925Z",
     "start_time": "2021-07-03T08:21:32.131451Z"
    }
   },
   "outputs": [
    {
     "name": "stdout",
     "output_type": "stream",
     "text": [
      "Reached Target: 0\n",
      "Canceled Target: 0\n",
      "The list of time to reach the target: []\n"
     ]
    },
    {
     "data": {
      "application/vnd.jupyter.widget-view+json": {
       "model_id": "d17e667118b948e7971edad4b1671436",
       "version_major": 2,
       "version_minor": 0
      },
      "text/plain": [
       "Canvas(toolbar=Toolbar(toolitems=[('Home', 'Reset original view', 'home', 'home'), ('Back', 'Back to previous …"
      ]
     },
     "metadata": {},
     "output_type": "display_data"
    },
    {
     "data": {
      "application/vnd.jupyter.widget-view+json": {
       "model_id": "52621ac2973940409eb6e0fa55533682",
       "version_major": 2,
       "version_minor": 0
      },
      "text/plain": [
       "Canvas(toolbar=Toolbar(toolitems=[('Home', 'Reset original view', 'home', 'home'), ('Back', 'Back to previous …"
      ]
     },
     "metadata": {},
     "output_type": "display_data"
    }
   ],
   "source": [
    "import pprint\n",
    "if (rospy.has_param('/reached_target')):\n",
    "    reached_target = rospy.get_param('/reached_target')\n",
    "else: \n",
    "    reached_target = 0\n",
    "if (rospy.has_param('/canceled_target')):\n",
    "    canceled_target = rospy.get_param('/canceled_target')\n",
    "else:\n",
    "    canceled_target = 0\n",
    "if (rospy.has_param('/target_time')):\n",
    "    time_to_target = rospy.get_param('/target_time')\n",
    "else:\n",
    "    time_to_target = []\n",
    "    \n",
    "print(f'Reached Target: {reached_target}\\nCanceled Target: {canceled_target}')\n",
    "print(f'The list of time to reach the target: {time_to_target}')\n",
    "#pprint.pprint(time_to_target)\n",
    "plt.style.use('ggplot')\n",
    "plt.figure(dpi=100)\n",
    "plt.hist(time_to_target,bins=20, stacked=True)\n",
    "plt.figure(dpi=80, figsize=(9,2.2))\n",
    "plt.barh(('Reached\\nTarget', 'Canceled\\nTarget'),(reached_target, canceled_target))\n",
    "plt.show()"
   ]
  },
  {
   "cell_type": "code",
   "execution_count": null,
   "id": "e3c8d99a",
   "metadata": {},
   "outputs": [],
   "source": []
  }
 ],
 "metadata": {
  "hide_input": false,
  "interpreter": {
   "hash": "0075869c5e1e9f1a67625e8b0e2de3952e5de208efa237d1ce1a4f466ca5e275"
  },
  "kernelspec": {
   "display_name": "Python 3 (ipykernel)",
   "language": "python",
   "name": "python3"
  },
  "language_info": {
   "codemirror_mode": {
    "name": "ipython",
    "version": 3
   },
   "file_extension": ".py",
   "mimetype": "text/x-python",
   "name": "python",
   "nbconvert_exporter": "python",
   "pygments_lexer": "ipython3",
   "version": "3.8.5"
  },
  "toc": {
   "base_numbering": 1,
   "nav_menu": {},
   "number_sections": true,
   "sideBar": true,
   "skip_h1_title": false,
   "title_cell": "Table of Contents",
   "title_sidebar": "Contents",
   "toc_cell": false,
   "toc_position": {},
   "toc_section_display": true,
   "toc_window_display": false
  },
  "varInspector": {
   "cols": {
    "lenName": 16,
    "lenType": 16,
    "lenVar": 40
   },
   "kernels_config": {
    "python": {
     "delete_cmd_postfix": "",
     "delete_cmd_prefix": "del ",
     "library": "var_list.py",
     "varRefreshCmd": "print(var_dic_list())"
    },
    "r": {
     "delete_cmd_postfix": ") ",
     "delete_cmd_prefix": "rm(",
     "library": "var_list.r",
     "varRefreshCmd": "cat(var_dic_list()) "
    }
   },
   "types_to_exclude": [
    "module",
    "function",
    "builtin_function_or_method",
    "instance",
    "_Feature"
   ],
   "window_display": false
  }
 },
 "nbformat": 4,
 "nbformat_minor": 5
}
